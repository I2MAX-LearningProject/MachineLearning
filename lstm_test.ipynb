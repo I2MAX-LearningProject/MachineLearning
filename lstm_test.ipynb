{
 "cells": [
  {
   "cell_type": "code",
   "execution_count": null,
   "metadata": {
    "collapsed": true
   },
   "outputs": [],
   "source": []
  },
  {
   "cell_type": "markdown",
   "metadata": {},
   "source": [
    "load and plot data\n",
    "항상 순서는 \n",
    "\n",
    "load data->\n",
    "define model->\n",
    "compile model->\n",
    "fit model->\n",
    "evaluate model->\n",
    "tie it all together\n"
   ]
  },
  {
   "cell_type": "code",
   "execution_count": 1,
   "metadata": {},
   "outputs": [],
   "source": [
    "import tensorflow as tf\n",
    "import numpy as np\n",
    "import matplotlib\n",
    "import os\n",
    "import matplotlib.pyplot as plt\n",
    "\n",
    "tf.set_random_seed(77)\n",
    "\n",
    "#Min Max Normalization\n",
    "def MinMaxScaler(data):\n",
    "    numerator = data - np.min(data, 0)\n",
    "    denominator = np.max(data, 0) - np.min(data, 0)\n",
    "    return numerator / (denominator + 1e-7)"
   ]
  },
  {
   "cell_type": "code",
   "execution_count": 2,
   "metadata": {},
   "outputs": [
    {
     "name": "stdout",
     "output_type": "stream",
     "text": [
      "['last' 'bid' 'ask' 'low' 'high' 'volume']\n",
      "[[ 0.52493075  0.37053353  0.52463567  0.60770975  0.54615385  0.32157781]\n",
      " [ 0.59141274  0.41752325  0.59333796  0.60770975  0.52820513  0.32015694]]\n",
      "[[ 0.52493075]\n",
      " [ 0.59141274]]\n"
     ]
    }
   ],
   "source": [
    "# train Parameters\n",
    "seq_length = 7\n",
    "data_dim = 6\n",
    "hidden_dim = 10\n",
    "output_dim = 1\n",
    "learning_rate = 0.01\n",
    "\n",
    "# bid ask low high volume\n",
    "xy = np.genfromtxt('../data/bitcoin_market.csv', delimiter=',', dtype=np.str)[:,[4,7,8,9,10,11]]\n",
    "print(xy[0])\n",
    "\n",
    "xy = xy[1:].astype(np.float)\n",
    "xy = MinMaxScaler(xy[1:]) #normalize\n",
    "x = xy[:]\n",
    "y = xy[:,[0]]\n",
    "print(x[:2])\n",
    "print(y[:2])"
   ]
  },
  {
   "cell_type": "code",
   "execution_count": 3,
   "metadata": {},
   "outputs": [
    {
     "name": "stdout",
     "output_type": "stream",
     "text": [
      "[[ 0.52493075  0.37053353  0.52463567  0.60770975  0.54615385  0.32157781]\n",
      " [ 0.59141274  0.41752325  0.59333796  0.60770975  0.52820513  0.32015694]\n",
      " [ 0.55817175  0.39402839  0.57321305  0.60770975  0.52820513  0.32937215]\n",
      " [ 0.60249307  0.39255996  0.59750173  0.60770975  0.52820513  0.33856945]\n",
      " [ 0.50069252  0.35340186  0.50104094  0.60770975  0.52820513  0.34429369]\n",
      " [ 0.51385042  0.35829662  0.50728661  0.60770975  0.52820513  0.35179124]\n",
      " [ 0.47368421  0.33431229  0.48507981  0.60770975  0.51623932  0.34650965]] -> [ 0.48268698]\n",
      "[[ 0.59141274  0.41752325  0.59333796  0.60770975  0.52820513  0.32015694]\n",
      " [ 0.55817175  0.39402839  0.57321305  0.60770975  0.52820513  0.32937215]\n",
      " [ 0.60249307  0.39255996  0.59750173  0.60770975  0.52820513  0.33856945]\n",
      " [ 0.50069252  0.35340186  0.50104094  0.60770975  0.52820513  0.34429369]\n",
      " [ 0.51385042  0.35829662  0.50728661  0.60770975  0.52820513  0.35179124]\n",
      " [ 0.47368421  0.33431229  0.48507981  0.60770975  0.51623932  0.34650965]\n",
      " [ 0.48268698  0.33969652  0.48160999  0.60770975  0.48717949  0.33841812]] -> [ 0.47437673]\n"
     ]
    }
   ],
   "source": [
    "# build a dataset\n",
    "dataX = []\n",
    "dataY = []\n",
    "for i in range(0, len(y) - seq_length):\n",
    "    _x = x[i:i + seq_length]\n",
    "    _y = y[i + seq_length]  # Next last price\n",
    "    if i < 2 : print(_x, \"->\", _y)\n",
    "    dataX.append(_x)\n",
    "    dataY.append(_y)"
   ]
  },
  {
   "cell_type": "code",
   "execution_count": 4,
   "metadata": {},
   "outputs": [
    {
     "name": "stdout",
     "output_type": "stream",
     "text": [
      "[[[ 0.52493075  0.37053353  0.52463567  0.60770975  0.54615385  0.32157781]\n",
      "  [ 0.59141274  0.41752325  0.59333796  0.60770975  0.52820513  0.32015694]\n",
      "  [ 0.55817175  0.39402839  0.57321305  0.60770975  0.52820513  0.32937215]\n",
      "  [ 0.60249307  0.39255996  0.59750173  0.60770975  0.52820513  0.33856945]\n",
      "  [ 0.50069252  0.35340186  0.50104094  0.60770975  0.52820513  0.34429369]\n",
      "  [ 0.51385042  0.35829662  0.50728661  0.60770975  0.52820513  0.35179124]\n",
      "  [ 0.47368421  0.33431229  0.48507981  0.60770975  0.51623932  0.34650965]]\n",
      "\n",
      " [[ 0.59141274  0.41752325  0.59333796  0.60770975  0.52820513  0.32015694]\n",
      "  [ 0.55817175  0.39402839  0.57321305  0.60770975  0.52820513  0.32937215]\n",
      "  [ 0.60249307  0.39255996  0.59750173  0.60770975  0.52820513  0.33856945]\n",
      "  [ 0.50069252  0.35340186  0.50104094  0.60770975  0.52820513  0.34429369]\n",
      "  [ 0.51385042  0.35829662  0.50728661  0.60770975  0.52820513  0.35179124]\n",
      "  [ 0.47368421  0.33431229  0.48507981  0.60770975  0.51623932  0.34650965]\n",
      "  [ 0.48268698  0.33969652  0.48160999  0.60770975  0.48717949  0.33841812]]]\n",
      "[[ 0.48268698]\n",
      " [ 0.47437673]]\n"
     ]
    }
   ],
   "source": [
    "# train/test split\n",
    "train_size = int(len(dataY) * 0.7)\n",
    "test_size = len(dataY) - train_size\n",
    "trainX, testX = np.array(dataX[0:train_size]), np.array(dataX[train_size:len(dataX)])\n",
    "trainY, testY = np.array(dataY[0:train_size]), np.array(dataY[train_size:len(dataY)])\n",
    "\n",
    "print(trainX[:2])\n",
    "print(trainY[:2])\n"
   ]
  },
  {
   "cell_type": "code",
   "execution_count": 5,
   "metadata": {},
   "outputs": [],
   "source": [
    "# input place holders\n",
    "X = tf.placeholder(tf.float32, [None, seq_length, data_dim])\n",
    "Y = tf.placeholder(tf.float32, [None, 1])\n",
    "\n",
    "# build a LSTM network\n",
    "cell = tf.contrib.rnn.BasicLSTMCell(num_units=hidden_dim, state_is_tuple=True, activation=tf.tanh)\n",
    "outputs, _states = tf.nn.dynamic_rnn(cell, X, dtype=tf.float32)\n",
    "# outputs[:, -1] : all batch of data_dim of last seq_length\n",
    "Y_pred = tf.contrib.layers.fully_connected(outputs[:, -1], output_dim, activation_fn=None)  # We use the last cell's output\n",
    "\n",
    "# cost/loss\n",
    "loss = tf.reduce_sum(tf.square(Y_pred - Y))  # sum of the squares\n",
    "\n",
    "# optimizer\n",
    "optimizer = tf.train.AdamOptimizer(learning_rate)\n",
    "train = optimizer.minimize(loss)"
   ]
  },
  {
   "cell_type": "code",
   "execution_count": 6,
   "metadata": {},
   "outputs": [
    {
     "name": "stdout",
     "output_type": "stream",
     "text": [
      "[step: 0] loss: 882.1521606445312\n",
      "[step: 1] loss: 626.0106811523438\n",
      "[step: 2] loss: 442.33563232421875\n",
      "[step: 3] loss: 308.403076171875\n",
      "[step: 4] loss: 209.56637573242188\n",
      "[step: 5] loss: 136.43344116210938\n",
      "[step: 6] loss: 83.13798522949219\n",
      "[step: 7] loss: 45.854331970214844\n",
      "[step: 8] loss: 21.82154083251953\n",
      "[step: 9] loss: 8.7467679977417\n",
      "[step: 10] loss: 4.444291591644287\n",
      "[step: 11] loss: 6.609676837921143\n",
      "[step: 12] loss: 12.712723731994629\n",
      "[step: 13] loss: 20.12505340576172\n",
      "[step: 14] loss: 26.582311630249023\n",
      "[step: 15] loss: 30.68248748779297\n",
      "[step: 16] loss: 32.0045051574707\n",
      "[step: 17] loss: 30.86747932434082\n",
      "[step: 18] loss: 27.973358154296875\n",
      "[step: 19] loss: 24.10784149169922\n",
      "[step: 20] loss: 19.95472526550293\n",
      "[step: 21] loss: 16.01665687561035\n",
      "[step: 22] loss: 12.606901168823242\n",
      "[step: 23] loss: 9.878338813781738\n",
      "[step: 24] loss: 7.865300178527832\n",
      "[step: 25] loss: 6.523555755615234\n",
      "[step: 26] loss: 5.762818813323975\n",
      "[step: 27] loss: 5.470576763153076\n",
      "[step: 28] loss: 5.528598308563232\n",
      "[step: 29] loss: 5.823748588562012\n",
      "[step: 30] loss: 6.254660606384277\n",
      "[step: 31] loss: 6.735658645629883\n",
      "[step: 32] loss: 7.198561191558838\n",
      "[step: 33] loss: 7.5930867195129395\n",
      "[step: 34] loss: 7.885990619659424\n",
      "[step: 35] loss: 8.059627532958984\n",
      "[step: 36] loss: 8.109829902648926\n",
      "[step: 37] loss: 8.043540954589844\n",
      "[step: 38] loss: 7.876092433929443\n",
      "[step: 39] loss: 7.628623008728027\n",
      "[step: 40] loss: 7.325531005859375\n",
      "[step: 41] loss: 6.99218225479126\n",
      "[step: 42] loss: 6.652764797210693\n",
      "[step: 43] loss: 6.32874870300293\n",
      "[step: 44] loss: 6.037500381469727\n",
      "[step: 45] loss: 5.7915730476379395\n",
      "[step: 46] loss: 5.598353385925293\n",
      "[step: 47] loss: 5.460059642791748\n",
      "[step: 48] loss: 5.374325275421143\n",
      "[step: 49] loss: 5.334909915924072\n",
      "[step: 50] loss: 5.332669734954834\n",
      "[step: 51] loss: 5.356817245483398\n",
      "[step: 52] loss: 5.396090030670166\n",
      "[step: 53] loss: 5.439723491668701\n",
      "[step: 54] loss: 5.478418827056885\n",
      "[step: 55] loss: 5.505000114440918\n",
      "[step: 56] loss: 5.51480770111084\n",
      "[step: 57] loss: 5.505712985992432\n",
      "[step: 58] loss: 5.477922439575195\n",
      "[step: 59] loss: 5.433709621429443\n",
      "[step: 60] loss: 5.37669038772583\n",
      "[step: 61] loss: 5.311342239379883\n",
      "[step: 62] loss: 5.2423601150512695\n",
      "[step: 63] loss: 5.174136161804199\n",
      "[step: 64] loss: 5.110319137573242\n",
      "[step: 65] loss: 5.053550720214844\n",
      "[step: 66] loss: 5.005344867706299\n",
      "[step: 67] loss: 4.966089248657227\n",
      "[step: 68] loss: 4.935184955596924\n",
      "[step: 69] loss: 4.911249160766602\n",
      "[step: 70] loss: 4.892409324645996\n",
      "[step: 71] loss: 4.876492023468018\n",
      "[step: 72] loss: 4.861443042755127\n",
      "[step: 73] loss: 4.845396518707275\n",
      "[step: 74] loss: 4.826904296875\n",
      "[step: 75] loss: 4.80501127243042\n",
      "[step: 76] loss: 4.779348850250244\n",
      "[step: 77] loss: 4.749940872192383\n",
      "[step: 78] loss: 4.717278957366943\n",
      "[step: 79] loss: 4.68210506439209\n",
      "[step: 80] loss: 4.645318984985352\n",
      "[step: 81] loss: 4.607812881469727\n",
      "[step: 82] loss: 4.570384979248047\n",
      "[step: 83] loss: 4.533667087554932\n",
      "[step: 84] loss: 4.498024940490723\n",
      "[step: 85] loss: 4.463580131530762\n",
      "[step: 86] loss: 4.430238723754883\n",
      "[step: 87] loss: 4.397697448730469\n",
      "[step: 88] loss: 4.365555286407471\n",
      "[step: 89] loss: 4.333352565765381\n",
      "[step: 90] loss: 4.300644397735596\n",
      "[step: 91] loss: 4.267087459564209\n",
      "[step: 92] loss: 4.232436656951904\n",
      "[step: 93] loss: 4.196588516235352\n",
      "[step: 94] loss: 4.159562110900879\n",
      "[step: 95] loss: 4.12148904800415\n",
      "[step: 96] loss: 4.082581043243408\n",
      "[step: 97] loss: 4.043071269989014\n",
      "[step: 98] loss: 4.003177642822266\n",
      "[step: 99] loss: 3.9631195068359375\n",
      "[step: 100] loss: 3.922987461090088\n",
      "[step: 101] loss: 3.882863759994507\n",
      "[step: 102] loss: 3.8426849842071533\n",
      "[step: 103] loss: 3.8023645877838135\n",
      "[step: 104] loss: 3.7617626190185547\n",
      "[step: 105] loss: 3.720728874206543\n",
      "[step: 106] loss: 3.6791200637817383\n",
      "[step: 107] loss: 3.636801242828369\n",
      "[step: 108] loss: 3.5937256813049316\n",
      "[step: 109] loss: 3.549858808517456\n",
      "[step: 110] loss: 3.5052032470703125\n",
      "[step: 111] loss: 3.4598326683044434\n",
      "[step: 112] loss: 3.4138457775115967\n",
      "[step: 113] loss: 3.3673267364501953\n",
      "[step: 114] loss: 3.320352792739868\n",
      "[step: 115] loss: 3.273024082183838\n",
      "[step: 116] loss: 3.2253785133361816\n",
      "[step: 117] loss: 3.1774775981903076\n",
      "[step: 118] loss: 3.129354238510132\n",
      "[step: 119] loss: 3.081023693084717\n",
      "[step: 120] loss: 3.0325441360473633\n",
      "[step: 121] loss: 2.9839606285095215\n",
      "[step: 122] loss: 2.9353744983673096\n",
      "[step: 123] loss: 2.8868606090545654\n",
      "[step: 124] loss: 2.83851957321167\n",
      "[step: 125] loss: 2.790464162826538\n",
      "[step: 126] loss: 2.7427923679351807\n",
      "[step: 127] loss: 2.6955790519714355\n",
      "[step: 128] loss: 2.6488895416259766\n",
      "[step: 129] loss: 2.602727174758911\n",
      "[step: 130] loss: 2.5571036338806152\n",
      "[step: 131] loss: 2.5120396614074707\n",
      "[step: 132] loss: 2.467531681060791\n",
      "[step: 133] loss: 2.4236040115356445\n",
      "[step: 134] loss: 2.380300760269165\n",
      "[step: 135] loss: 2.3376874923706055\n",
      "[step: 136] loss: 2.2958409786224365\n",
      "[step: 137] loss: 2.254829168319702\n",
      "[step: 138] loss: 2.2147159576416016\n",
      "[step: 139] loss: 2.175525426864624\n",
      "[step: 140] loss: 2.137256622314453\n",
      "[step: 141] loss: 2.099919319152832\n",
      "[step: 142] loss: 2.063488245010376\n",
      "[step: 143] loss: 2.027940273284912\n",
      "[step: 144] loss: 1.9932743310928345\n",
      "[step: 145] loss: 1.9594768285751343\n",
      "[step: 146] loss: 1.9265328645706177\n",
      "[step: 147] loss: 1.8944141864776611\n",
      "[step: 148] loss: 1.86309015750885\n",
      "[step: 149] loss: 1.8325042724609375\n",
      "[step: 150] loss: 1.8026198148727417\n",
      "[step: 151] loss: 1.7734044790267944\n",
      "[step: 152] loss: 1.744823932647705\n",
      "[step: 153] loss: 1.7168803215026855\n",
      "[step: 154] loss: 1.689557433128357\n",
      "[step: 155] loss: 1.662851095199585\n",
      "[step: 156] loss: 1.6367279291152954\n",
      "[step: 157] loss: 1.611169695854187\n",
      "[step: 158] loss: 1.5861400365829468\n",
      "[step: 159] loss: 1.5616209506988525\n",
      "[step: 160] loss: 1.537595510482788\n",
      "[step: 161] loss: 1.5140594244003296\n",
      "[step: 162] loss: 1.490995168685913\n",
      "[step: 163] loss: 1.4683756828308105\n",
      "[step: 164] loss: 1.4461785554885864\n",
      "[step: 165] loss: 1.4243921041488647\n",
      "[step: 166] loss: 1.403012752532959\n",
      "[step: 167] loss: 1.382027268409729\n",
      "[step: 168] loss: 1.361444354057312\n",
      "[step: 169] loss: 1.3412545919418335\n",
      "[step: 170] loss: 1.321446180343628\n",
      "[step: 171] loss: 1.3020142316818237\n",
      "[step: 172] loss: 1.2829535007476807\n",
      "[step: 173] loss: 1.264261245727539\n",
      "[step: 174] loss: 1.2459362745285034\n",
      "[step: 175] loss: 1.227976679801941\n",
      "[step: 176] loss: 1.210372805595398\n",
      "[step: 177] loss: 1.1931275129318237\n",
      "[step: 178] loss: 1.1762371063232422\n",
      "[step: 179] loss: 1.1597086191177368\n",
      "[step: 180] loss: 1.1435465812683105\n",
      "[step: 181] loss: 1.1277456283569336\n",
      "[step: 182] loss: 1.1123042106628418\n",
      "[step: 183] loss: 1.0972295999526978\n",
      "[step: 184] loss: 1.0825259685516357\n",
      "[step: 185] loss: 1.0681897401809692\n",
      "[step: 186] loss: 1.054226040840149\n",
      "[step: 187] loss: 1.0406348705291748\n",
      "[step: 188] loss: 1.0274187326431274\n",
      "[step: 189] loss: 1.0145796537399292\n",
      "[step: 190] loss: 1.002125859260559\n",
      "[step: 191] loss: 0.9900557994842529\n",
      "[step: 192] loss: 0.9783684611320496\n",
      "[step: 193] loss: 0.9670728445053101\n",
      "[step: 194] loss: 0.9561643004417419\n",
      "[step: 195] loss: 0.9456468820571899\n",
      "[step: 196] loss: 0.9355181455612183\n",
      "[step: 197] loss: 0.9257782101631165\n",
      "[step: 198] loss: 0.9164256453514099\n",
      "[step: 199] loss: 0.9074615836143494\n"
     ]
    },
    {
     "data": {
      "image/png": "[encoded data removed]",
      "text/plain": [
       "<matplotlib.figure.Figure at 0xe48ae80>"
      ]
     },
     "metadata": {},
     "output_type": "display_data"
    }
   ],
   "source": [
    "\n",
    "# train Parameters\n",
    "iterations = 200\n",
    "\n",
    "with tf.Session() as sess:\n",
    "    sess.run(tf.global_variables_initializer())\n",
    "    \n",
    "    # Training step\n",
    "    for i in range(iterations):\n",
    "        _, step_loss = sess.run([train, loss], feed_dict={X: trainX, Y: trainY})\n",
    "        print(\"[step: {}] loss: {}\".format(i, step_loss))\n",
    "#         print(sess.run(outputs[:, -1], feed_dict={X: trainX, Y: trainY}))\n",
    "        \n",
    "    # Test step\n",
    "    test_predict = sess.run(Y_pred, feed_dict={X: testX})\n",
    "    \n",
    "    # Plot predictions\n",
    "    plt.plot(testY)\n",
    "    plt.plot(test_predict)\n",
    "    plt.xlabel(\"Time Period\")\n",
    "    plt.ylabel(\"Stock Price\")\n",
    "    plt.show()"
   ]
  },
  {
   "cell_type": "code",
   "execution_count": null,
   "metadata": {
    "collapsed": true
   },
   "outputs": [],
   "source": [
    "xy = MinMaxScaler(xy[1:]) #normalize"
   ]
  },
  {
   "cell_type": "code",
   "execution_count": null,
   "metadata": {
    "scrolled": true
   },
   "outputs": [],
   "source": [
    "xy"
   ]
  },
  {
   "cell_type": "code",
   "execution_count": null,
   "metadata": {},
   "outputs": [],
   "source": [
    "x = xy[:]\n",
    "y = xy[:,[0]]\n",
    "print(x[:2])\n",
    "print(y[:2])"
   ]
  },
  {
   "cell_type": "code",
   "execution_count": null,
   "metadata": {},
   "outputs": [],
   "source": [
    "# build a dataset\n",
    "dataX = []\n",
    "dataY = []\n",
    "for i in range(0, len(y) - seq_length):\n",
    "    _x = x[i:i + seq_length]\n",
    "    _y = y[i + seq_length]  # Next last price\n",
    "    if i < 2 : print(_x, \"->\", _y)\n",
    "    dataX.append(_x)\n",
    "    dataY.append(_y)"
   ]
  },
  {
   "cell_type": "code",
   "execution_count": null,
   "metadata": {},
   "outputs": [],
   "source": [
    "dataX"
   ]
  },
  {
   "cell_type": "code",
   "execution_count": null,
   "metadata": {},
   "outputs": [],
   "source": [
    "# train/test split\n",
    "train_size = int(len(dataY) * 0.7)\n",
    "test_size = len(dataY) - train_size\n",
    "trainX, testX = np.array(dataX[0:train_size]), np.array(dataX[train_size:len(dataX)])\n",
    "trainY, testY = np.array(dataY[0:train_size]), np.array(dataY[train_size:len(dataY)])\n",
    "\n",
    "print(trainX[:2])\n",
    "print(trainY[:2])"
   ]
  },
  {
   "cell_type": "code",
   "execution_count": null,
   "metadata": {
    "collapsed": true
   },
   "outputs": [],
   "source": [
    "#input placeholders\n",
    "X=tf.placeholder(tf.float32, [None, seq_length, data_dim])\n",
    "Y=tf.placeholder(tf.float32, [None, 1])\n",
    "\n",
    "#build a LSTM network"
   ]
  }
 ],
 "metadata": {
  "kernelspec": {
   "display_name": "Python 3",
   "language": "python",
   "name": "python3"
  },
  "language_info": {
   "codemirror_mode": {
    "name": "ipython",
    "version": 3
   },
   "file_extension": ".py",
   "mimetype": "text/x-python",
   "name": "python",
   "nbconvert_exporter": "python",
   "pygments_lexer": "ipython3",
   "version": "3.5.3"
  }
 },
 "nbformat": 4,
 "nbformat_minor": 2
}
