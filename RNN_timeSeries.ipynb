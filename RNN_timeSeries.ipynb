{
 "cells": [
  {
   "cell_type": "code",
   "execution_count": 1,
   "metadata": {
    "collapsed": true
   },
   "outputs": [],
   "source": [
    "if 'session' in locals() and session is not None:\n",
    "    print('Close interactive session')\n",
    "    session.close()"
   ]
  },
  {
   "cell_type": "code",
   "execution_count": 26,
   "metadata": {
    "collapsed": true
   },
   "outputs": [],
   "source": [
    "import tensorflow as tf\n",
    "import numpy as np\n",
    "import matplotlib\n",
    "import os\n",
    "import matplotlib.pyplot as plt\n",
    "\n",
    "tf.set_random_seed(7)\n"
   ]
  },
  {
   "cell_type": "code",
   "execution_count": 27,
   "metadata": {
    "collapsed": true
   },
   "outputs": [],
   "source": [
    "def MinMaxScaler(data):\n",
    "    numerator=data-np.min(data)\n",
    "    denominator=np.max(data)-np.min(data)\n",
    "    return numerator/(denominator+1e-7)\n",
    "#input data to be normalized\n",
    "#Parameters\n",
    "#-------------\n",
    "#data: numpy.ndarray\n",
    "#      shape: [Batch size, dimension]\n",
    "\n",
    "#Returns\n",
    "#--------------\n",
    "#data: numpy.ndarray\n",
    "#      normalized data\n",
    "#      shape [Batch size, dimension]"
   ]
  },
  {
   "cell_type": "code",
   "execution_count": 34,
   "metadata": {
    "collapsed": true
   },
   "outputs": [],
   "source": [
    "#load data\n",
    "#year(3), month(4), day(5), day of week(6)\n",
    "xy=np.genfromtxt('./data/201701-201701빵판매량.csv', delimiter=',')[2779:,[3,4,5,6,1]]\n",
    "\n",
    "#train parameters\n",
    "seq_length=7\n",
    "data_dim=\n",
    "hidden_dim=10\n",
    "output_dim=1\n",
    "learning_rate=0.01\n",
    "iteration=500"
   ]
  },
  {
   "cell_type": "code",
   "execution_count": null,
   "metadata": {
    "collapsed": true
   },
   "outputs": [],
   "source": [
    "먼저 data를 load하는데, 전체 데이터 중 사용할 feature와 사용하지 않을 feature는 미리 결정해두고\n",
    "\n",
    "사용할 것만 불러온다.\n",
    "사용한 데이터의 경우 빵종류가 8가지여서 8번빵에 대해서만 했다. 따라서 [2779:,~]를 이용했다.\n",
    "그리고, 그 옆 [~:~, [3,4,5,6,1]]부분은 사용하는 feature와 관련된 자료다.\n",
    "열 3은 year, 4는 month, 5는 day, 6은 day of week다. \n",
    "\n",
    "그리고, 마지막 1열이 판매량이다.\n",
    "중요한 것은 김성훈교수님 코드에서 알 수 있듯이 과거 판매량도 X행렬에 포함된다는 것이다.\n",
    "\n",
    "즉, 내일 판매량을 예측하는 데 지금까지 지난 7일간 축적된 모든 data와 내일의 년,월,일,요일이 필요하다.\n",
    "\n",
    "다음 김성훈교수님의 코드를 보면서 확인해보자.\n",
    "# Open, High, Low, Volume, Close\n",
    "xy = np.loadtxt('data-02-stock_daily.csv', delimiter=',')\n",
    "xy = xy[::-1]  # reverse order (chronically ordered)\n",
    "xy = MinMaxScaler(xy)\n",
    "x = xy\n",
    "y = xy[:, [-1]]  # Close as label\n",
    "\n",
    "나와 다른 것은 일단 reverse order 코드가 있다는 것이고(그만큼 시계열에서는 sequence와 방향이 중요한듯)\n",
    "그리고, 두번째 줄은 정규화 과정이다. \n",
    "여기서 궁금했던 점 하나는 교수님은 feature를 모두 같은 성격의 open, high, low, volume,close 를 사용했다.\n",
    "(물론 다른 4개의 feature와 volume은 좀 다른 점이 있는 듯 하다.)\n",
    "그래서 한꺼번에 xy=MinMaxScaler(xy)와 같이 정규화시키는 과정이 정당화되지만,\n",
    "\n",
    "나의 자료같은 경우 년, 월, 일, 요일, 판매량\n",
    "이 5개는 모두 단위도 다르고 척도도 다르고 성격도 조금 다른데, 한꺼번에 normalization을 시켜도 될까?\n",
    "그리고, 자료의 성격이 다른 것도 큰 문제였다. 그래서 datatype에 대해 조사해보았다.\n",
    "\n",
    "\"데이터의 유형과 유형의 성격을 정확히 이해하는 것은 최초 데이터 수집 시 어떤 유형으로 데이터를 수집하는 게 적절할지 결정하는 일에서부터 이후 분석이나 시각화 과정에서 데이터 유형에 따라 할 수 있는/없는 일들이 결정되므로 중요하다.\"\n",
    "\n",
    "1. nominal data(명목자료)\n",
    "    순서를 매길 수 없고 그냥 셀수 있음.\n",
    "    평균이 의미 없음\n",
    "    categorical data라고 부르기도 함\n",
    "2. ordinal data(순서자료)\n",
    "    데이터가 속하는 category들에 순서가 있는 경우\n",
    "    scale있는 데이터\n",
    "3. interval data(구간자료)   \n",
    "    numeric value를 가지므로 다양한 연산수행가능\n",
    "    절대적 원점이 없다.\n",
    "4.  ratio data(비율자료)\n",
    "    \n",
    "    \n"
   ]
  },
  {
   "cell_type": "code",
   "execution_count": 35,
   "metadata": {
    "scrolled": true
   },
   "outputs": [
    {
     "data": {
      "text/plain": [
       "array([  2.01600000e+03,   1.00000000e+00,   2.00000000e+00,\n",
       "         7.00000000e+00,   1.00000000e+00,   4.10000000e+01])"
      ]
     },
     "execution_count": 35,
     "metadata": {},
     "output_type": "execute_result"
    }
   ],
   "source": [
    "xy[1]"
   ]
  },
  {
   "cell_type": "code",
   "execution_count": 31,
   "metadata": {
    "collapsed": true
   },
   "outputs": [],
   "source": [
    "#train parameters\n",
    "seq_length=7\n",
    "data_dim=6\n",
    "hidden_dim=10\n",
    "output_dim=1\n",
    "learning_rate=0.01\n",
    "iterations=500"
   ]
  },
  {
   "cell_type": "code",
   "execution_count": 32,
   "metadata": {
    "collapsed": true
   },
   "outputs": [],
   "source": [
    "xy=MinMaxScaler(xy[1])"
   ]
  },
  {
   "cell_type": "code",
   "execution_count": 33,
   "metadata": {},
   "outputs": [],
   "source": [
    "x=xy[::]"
   ]
  },
  {
   "cell_type": "code",
   "execution_count": 21,
   "metadata": {
    "scrolled": true
   },
   "outputs": [
    {
     "data": {
      "text/plain": [
       "array([[  1.68567179e-02,   9.99504214e-01,   4.95785821e-04,\n",
       "          4.95785821e-04,   2.97471492e-03,   4.95785821e-04],\n",
       "       [  2.03272186e-02,   9.99504214e-01,   4.95785821e-04,\n",
       "          9.91571641e-04,   3.47050074e-03,   4.95785821e-04],\n",
       "       [  2.67724343e-02,   9.99504214e-01,   4.95785821e-04,\n",
       "          1.48735746e-03,   4.95785821e-04,   9.91571641e-04],\n",
       "       ..., \n",
       "       [  0.00000000e+00,   1.00000000e+00,   4.95785821e-04,\n",
       "          1.43777888e-02,   4.95785821e-04,   2.87555776e-02],\n",
       "       [  2.47892910e-03,   1.00000000e+00,   4.95785821e-04,\n",
       "          1.48735746e-02,   9.91571641e-04,   2.87555776e-02],\n",
       "       [  1.53693604e-02,   1.00000000e+00,   4.95785821e-04,\n",
       "          1.53693604e-02,   1.48735746e-03,   2.87555776e-02]])"
      ]
     },
     "execution_count": 21,
     "metadata": {},
     "output_type": "execute_result"
    }
   ],
   "source": [
    "x"
   ]
  },
  {
   "cell_type": "code",
   "execution_count": 22,
   "metadata": {
    "collapsed": true
   },
   "outputs": [],
   "source": [
    "y=xy[:,[-1]]"
   ]
  },
  {
   "cell_type": "code",
   "execution_count": 23,
   "metadata": {},
   "outputs": [
    {
     "data": {
      "text/plain": [
       "array([[ 0.00049579],\n",
       "       [ 0.00049579],\n",
       "       [ 0.00099157],\n",
       "       [ 0.00099157],\n",
       "       [ 0.00099157],\n",
       "       [ 0.00099157],\n",
       "       [ 0.00099157],\n",
       "       [ 0.00099157],\n",
       "       [ 0.00099157],\n",
       "       [ 0.00148736],\n",
       "       [ 0.00148736],\n",
       "       [ 0.00148736],\n",
       "       [ 0.00148736],\n",
       "       [ 0.00148736],\n",
       "       [ 0.00148736],\n",
       "       [ 0.00148736],\n",
       "       [ 0.00198314],\n",
       "       [ 0.00198314],\n",
       "       [ 0.00198314],\n",
       "       [ 0.00198314],\n",
       "       [ 0.00198314],\n",
       "       [ 0.00198314],\n",
       "       [ 0.00198314],\n",
       "       [ 0.00247893],\n",
       "       [ 0.00247893],\n",
       "       [ 0.00247893],\n",
       "       [ 0.00247893],\n",
       "       [ 0.00247893],\n",
       "       [ 0.00247893],\n",
       "       [ 0.00247893],\n",
       "       [ 0.00297471],\n",
       "       [ 0.00297471],\n",
       "       [ 0.00297471],\n",
       "       [ 0.00297471],\n",
       "       [ 0.00297471],\n",
       "       [ 0.00297471],\n",
       "       [ 0.00297471],\n",
       "       [ 0.0034705 ],\n",
       "       [ 0.0034705 ],\n",
       "       [ 0.0034705 ],\n",
       "       [ 0.0034705 ],\n",
       "       [ 0.0034705 ],\n",
       "       [ 0.0034705 ],\n",
       "       [ 0.0034705 ],\n",
       "       [ 0.00396629],\n",
       "       [ 0.00396629],\n",
       "       [ 0.00396629],\n",
       "       [ 0.00396629],\n",
       "       [ 0.00396629],\n",
       "       [ 0.00396629],\n",
       "       [ 0.00396629],\n",
       "       [ 0.00446207],\n",
       "       [ 0.00446207],\n",
       "       [ 0.00446207],\n",
       "       [ 0.00446207],\n",
       "       [ 0.00446207],\n",
       "       [ 0.00446207],\n",
       "       [ 0.00446207],\n",
       "       [ 0.00495786],\n",
       "       [ 0.00495786],\n",
       "       [ 0.00495786],\n",
       "       [ 0.00495786],\n",
       "       [ 0.00495786],\n",
       "       [ 0.00495786],\n",
       "       [ 0.00495786],\n",
       "       [ 0.00545364],\n",
       "       [ 0.00545364],\n",
       "       [ 0.00545364],\n",
       "       [ 0.00545364],\n",
       "       [ 0.00545364],\n",
       "       [ 0.00545364],\n",
       "       [ 0.00545364],\n",
       "       [ 0.00594943],\n",
       "       [ 0.00594943],\n",
       "       [ 0.00594943],\n",
       "       [ 0.00594943],\n",
       "       [ 0.00594943],\n",
       "       [ 0.00594943],\n",
       "       [ 0.00594943],\n",
       "       [ 0.00644522],\n",
       "       [ 0.00644522],\n",
       "       [ 0.00644522],\n",
       "       [ 0.00644522],\n",
       "       [ 0.00644522],\n",
       "       [ 0.00644522],\n",
       "       [ 0.00644522],\n",
       "       [ 0.006941  ],\n",
       "       [ 0.006941  ],\n",
       "       [ 0.006941  ],\n",
       "       [ 0.006941  ],\n",
       "       [ 0.006941  ],\n",
       "       [ 0.006941  ],\n",
       "       [ 0.006941  ],\n",
       "       [ 0.00743679],\n",
       "       [ 0.00743679],\n",
       "       [ 0.00743679],\n",
       "       [ 0.00743679],\n",
       "       [ 0.00743679],\n",
       "       [ 0.00743679],\n",
       "       [ 0.00743679],\n",
       "       [ 0.00793257],\n",
       "       [ 0.00793257],\n",
       "       [ 0.00793257],\n",
       "       [ 0.00793257],\n",
       "       [ 0.00793257],\n",
       "       [ 0.00793257],\n",
       "       [ 0.00793257],\n",
       "       [ 0.00842836],\n",
       "       [ 0.00842836],\n",
       "       [ 0.00842836],\n",
       "       [ 0.00842836],\n",
       "       [ 0.00842836],\n",
       "       [ 0.00842836],\n",
       "       [ 0.00842836],\n",
       "       [ 0.00892414],\n",
       "       [ 0.00892414],\n",
       "       [ 0.00892414],\n",
       "       [ 0.00892414],\n",
       "       [ 0.00892414],\n",
       "       [ 0.00892414],\n",
       "       [ 0.00892414],\n",
       "       [ 0.00941993],\n",
       "       [ 0.00941993],\n",
       "       [ 0.00941993],\n",
       "       [ 0.00941993],\n",
       "       [ 0.00941993],\n",
       "       [ 0.00941993],\n",
       "       [ 0.00941993],\n",
       "       [ 0.00991572],\n",
       "       [ 0.00991572],\n",
       "       [ 0.00991572],\n",
       "       [ 0.00991572],\n",
       "       [ 0.00991572],\n",
       "       [ 0.00991572],\n",
       "       [ 0.00991572],\n",
       "       [ 0.0104115 ],\n",
       "       [ 0.0104115 ],\n",
       "       [ 0.0104115 ],\n",
       "       [ 0.0104115 ],\n",
       "       [ 0.0104115 ],\n",
       "       [ 0.0104115 ],\n",
       "       [ 0.0104115 ],\n",
       "       [ 0.01090729],\n",
       "       [ 0.01090729],\n",
       "       [ 0.01090729],\n",
       "       [ 0.01090729],\n",
       "       [ 0.01090729],\n",
       "       [ 0.01090729],\n",
       "       [ 0.01090729],\n",
       "       [ 0.01140307],\n",
       "       [ 0.01140307],\n",
       "       [ 0.01140307],\n",
       "       [ 0.01140307],\n",
       "       [ 0.01140307],\n",
       "       [ 0.01140307],\n",
       "       [ 0.01140307],\n",
       "       [ 0.01189886],\n",
       "       [ 0.01189886],\n",
       "       [ 0.01189886],\n",
       "       [ 0.01189886],\n",
       "       [ 0.01189886],\n",
       "       [ 0.01189886],\n",
       "       [ 0.01189886],\n",
       "       [ 0.01239465],\n",
       "       [ 0.01239465],\n",
       "       [ 0.01239465],\n",
       "       [ 0.01239465],\n",
       "       [ 0.01239465],\n",
       "       [ 0.01239465],\n",
       "       [ 0.01239465],\n",
       "       [ 0.01289043],\n",
       "       [ 0.01289043],\n",
       "       [ 0.01289043],\n",
       "       [ 0.01289043],\n",
       "       [ 0.01289043],\n",
       "       [ 0.01289043],\n",
       "       [ 0.01289043],\n",
       "       [ 0.01338622],\n",
       "       [ 0.01338622],\n",
       "       [ 0.01338622],\n",
       "       [ 0.01338622],\n",
       "       [ 0.01338622],\n",
       "       [ 0.01338622],\n",
       "       [ 0.01338622],\n",
       "       [ 0.013882  ],\n",
       "       [ 0.013882  ],\n",
       "       [ 0.013882  ],\n",
       "       [ 0.013882  ],\n",
       "       [ 0.013882  ],\n",
       "       [ 0.013882  ],\n",
       "       [ 0.013882  ],\n",
       "       [ 0.01437779],\n",
       "       [ 0.01437779],\n",
       "       [ 0.01437779],\n",
       "       [ 0.01437779],\n",
       "       [ 0.01437779],\n",
       "       [ 0.01437779],\n",
       "       [ 0.01437779],\n",
       "       [ 0.01487357],\n",
       "       [ 0.01487357],\n",
       "       [ 0.01487357],\n",
       "       [ 0.01487357],\n",
       "       [ 0.01487357],\n",
       "       [ 0.01487357],\n",
       "       [ 0.01487357],\n",
       "       [ 0.01536936],\n",
       "       [ 0.01536936],\n",
       "       [ 0.01536936],\n",
       "       [ 0.01536936],\n",
       "       [ 0.01536936],\n",
       "       [ 0.01536936],\n",
       "       [ 0.01536936],\n",
       "       [ 0.01586515],\n",
       "       [ 0.01586515],\n",
       "       [ 0.01586515],\n",
       "       [ 0.01586515],\n",
       "       [ 0.01586515],\n",
       "       [ 0.01586515],\n",
       "       [ 0.01586515],\n",
       "       [ 0.01636093],\n",
       "       [ 0.01636093],\n",
       "       [ 0.01636093],\n",
       "       [ 0.01636093],\n",
       "       [ 0.01636093],\n",
       "       [ 0.01636093],\n",
       "       [ 0.01636093],\n",
       "       [ 0.01685672],\n",
       "       [ 0.01685672],\n",
       "       [ 0.01685672],\n",
       "       [ 0.01685672],\n",
       "       [ 0.01685672],\n",
       "       [ 0.01685672],\n",
       "       [ 0.01685672],\n",
       "       [ 0.0173525 ],\n",
       "       [ 0.0173525 ],\n",
       "       [ 0.0173525 ],\n",
       "       [ 0.0173525 ],\n",
       "       [ 0.0173525 ],\n",
       "       [ 0.0173525 ],\n",
       "       [ 0.0173525 ],\n",
       "       [ 0.01784829],\n",
       "       [ 0.01784829],\n",
       "       [ 0.01784829],\n",
       "       [ 0.01784829],\n",
       "       [ 0.01784829],\n",
       "       [ 0.01784829],\n",
       "       [ 0.01784829],\n",
       "       [ 0.01834408],\n",
       "       [ 0.01834408],\n",
       "       [ 0.01834408],\n",
       "       [ 0.01834408],\n",
       "       [ 0.01834408],\n",
       "       [ 0.01834408],\n",
       "       [ 0.01834408],\n",
       "       [ 0.01883986],\n",
       "       [ 0.01883986],\n",
       "       [ 0.01883986],\n",
       "       [ 0.01883986],\n",
       "       [ 0.01883986],\n",
       "       [ 0.01883986],\n",
       "       [ 0.01883986],\n",
       "       [ 0.01933565],\n",
       "       [ 0.01933565],\n",
       "       [ 0.01933565],\n",
       "       [ 0.01933565],\n",
       "       [ 0.01933565],\n",
       "       [ 0.01933565],\n",
       "       [ 0.01933565],\n",
       "       [ 0.01983143],\n",
       "       [ 0.01983143],\n",
       "       [ 0.01983143],\n",
       "       [ 0.01983143],\n",
       "       [ 0.01983143],\n",
       "       [ 0.01983143],\n",
       "       [ 0.01983143],\n",
       "       [ 0.02032722],\n",
       "       [ 0.02032722],\n",
       "       [ 0.02032722],\n",
       "       [ 0.02032722],\n",
       "       [ 0.02032722],\n",
       "       [ 0.02032722],\n",
       "       [ 0.02032722],\n",
       "       [ 0.020823  ],\n",
       "       [ 0.020823  ],\n",
       "       [ 0.020823  ],\n",
       "       [ 0.020823  ],\n",
       "       [ 0.020823  ],\n",
       "       [ 0.020823  ],\n",
       "       [ 0.020823  ],\n",
       "       [ 0.02131879],\n",
       "       [ 0.02131879],\n",
       "       [ 0.02131879],\n",
       "       [ 0.02131879],\n",
       "       [ 0.02131879],\n",
       "       [ 0.02131879],\n",
       "       [ 0.02131879],\n",
       "       [ 0.02181458],\n",
       "       [ 0.02181458],\n",
       "       [ 0.02181458],\n",
       "       [ 0.02181458],\n",
       "       [ 0.02181458],\n",
       "       [ 0.02181458],\n",
       "       [ 0.02181458],\n",
       "       [ 0.02231036],\n",
       "       [ 0.02231036],\n",
       "       [ 0.02231036],\n",
       "       [ 0.02231036],\n",
       "       [ 0.02231036],\n",
       "       [ 0.02231036],\n",
       "       [ 0.02231036],\n",
       "       [ 0.02280615],\n",
       "       [ 0.02280615],\n",
       "       [ 0.02280615],\n",
       "       [ 0.02280615],\n",
       "       [ 0.02280615],\n",
       "       [ 0.02280615],\n",
       "       [ 0.02280615],\n",
       "       [ 0.02330193],\n",
       "       [ 0.02330193],\n",
       "       [ 0.02330193],\n",
       "       [ 0.02330193],\n",
       "       [ 0.02330193],\n",
       "       [ 0.02330193],\n",
       "       [ 0.02330193],\n",
       "       [ 0.02379772],\n",
       "       [ 0.02379772],\n",
       "       [ 0.02379772],\n",
       "       [ 0.02379772],\n",
       "       [ 0.02379772],\n",
       "       [ 0.02379772],\n",
       "       [ 0.02379772],\n",
       "       [ 0.02429351],\n",
       "       [ 0.02429351],\n",
       "       [ 0.02429351],\n",
       "       [ 0.02429351],\n",
       "       [ 0.02429351],\n",
       "       [ 0.02429351],\n",
       "       [ 0.02429351],\n",
       "       [ 0.02478929],\n",
       "       [ 0.02478929],\n",
       "       [ 0.02478929],\n",
       "       [ 0.02478929],\n",
       "       [ 0.02478929],\n",
       "       [ 0.02478929],\n",
       "       [ 0.02478929],\n",
       "       [ 0.02528508],\n",
       "       [ 0.02528508],\n",
       "       [ 0.02528508],\n",
       "       [ 0.02528508],\n",
       "       [ 0.02528508],\n",
       "       [ 0.02528508],\n",
       "       [ 0.02528508],\n",
       "       [ 0.02578086],\n",
       "       [ 0.02578086],\n",
       "       [ 0.02578086],\n",
       "       [ 0.02578086],\n",
       "       [ 0.02578086],\n",
       "       [ 0.02578086],\n",
       "       [ 0.02578086],\n",
       "       [ 0.02627665],\n",
       "       [ 0.02627665],\n",
       "       [ 0.02627665],\n",
       "       [ 0.02627665],\n",
       "       [ 0.02627665],\n",
       "       [ 0.02627665],\n",
       "       [ 0.02627665],\n",
       "       [ 0.02677243],\n",
       "       [ 0.02677243],\n",
       "       [ 0.02677243],\n",
       "       [ 0.02677243],\n",
       "       [ 0.02677243],\n",
       "       [ 0.02677243],\n",
       "       [ 0.02677243],\n",
       "       [ 0.02726822],\n",
       "       [ 0.02726822],\n",
       "       [ 0.02726822],\n",
       "       [ 0.02726822],\n",
       "       [ 0.02726822],\n",
       "       [ 0.02726822],\n",
       "       [ 0.02726822],\n",
       "       [ 0.02776401],\n",
       "       [ 0.02776401],\n",
       "       [ 0.02776401],\n",
       "       [ 0.02776401],\n",
       "       [ 0.02776401],\n",
       "       [ 0.02776401],\n",
       "       [ 0.02776401],\n",
       "       [ 0.02825979],\n",
       "       [ 0.02825979],\n",
       "       [ 0.02825979],\n",
       "       [ 0.02825979],\n",
       "       [ 0.02825979],\n",
       "       [ 0.02825979],\n",
       "       [ 0.02825979],\n",
       "       [ 0.02875558],\n",
       "       [ 0.02875558],\n",
       "       [ 0.02875558]])"
      ]
     },
     "execution_count": 23,
     "metadata": {},
     "output_type": "execute_result"
    }
   ],
   "source": [
    "y"
   ]
  },
  {
   "cell_type": "code",
   "execution_count": 24,
   "metadata": {},
   "outputs": [
    {
     "ename": "SyntaxError",
     "evalue": "can't assign to operator (<ipython-input-24-c3dac8f7194c>, line 6)",
     "output_type": "error",
     "traceback": [
      "\u001b[1;36m  File \u001b[1;32m\"<ipython-input-24-c3dac8f7194c>\"\u001b[1;36m, line \u001b[1;32m6\u001b[0m\n\u001b[1;33m    -y=y[i+seq_length]\u001b[0m\n\u001b[1;37m    ^\u001b[0m\n\u001b[1;31mSyntaxError\u001b[0m\u001b[1;31m:\u001b[0m can't assign to operator\n"
     ]
    }
   ],
   "source": [
    "#build a dataset\n",
    "dataX=[]\n",
    "dataY=[]\n",
    "for i in range(0, len(y)-seq_length):\n",
    "    _x=x[i:i+seq_length]\n",
    "    -y=y[i+seq_length]\n",
    "    print(_x,\"->\",_y)\n",
    "    dataX.append(_x)\n",
    "    dataY.append(_y)"
   ]
  },
  {
   "cell_type": "code",
   "execution_count": null,
   "metadata": {
    "collapsed": true
   },
   "outputs": [],
   "source": []
  },
  {
   "cell_type": "code",
   "execution_count": null,
   "metadata": {
    "collapsed": true
   },
   "outputs": [],
   "source": []
  },
  {
   "cell_type": "code",
   "execution_count": 5,
   "metadata": {
    "collapsed": true
   },
   "outputs": [],
   "source": [
    "x=xy[:,[0]]"
   ]
  },
  {
   "cell_type": "code",
   "execution_count": 6,
   "metadata": {
    "collapsed": true
   },
   "outputs": [],
   "source": [
    "y=xy[:,[1]]"
   ]
  },
  {
   "cell_type": "code",
   "execution_count": 7,
   "metadata": {
    "collapsed": true
   },
   "outputs": [],
   "source": [
    "y=y.astype(np.float)"
   ]
  },
  {
   "cell_type": "code",
   "execution_count": 8,
   "metadata": {
    "collapsed": true
   },
   "outputs": [],
   "source": [
    "y=MinMaxScaler(y)"
   ]
  },
  {
   "cell_type": "code",
   "execution_count": 9,
   "metadata": {
    "collapsed": true
   },
   "outputs": [],
   "source": [
    "from datetime import datetime\n",
    "date_format=\"%Y-%m-%d\""
   ]
  },
  {
   "cell_type": "code",
   "execution_count": 10,
   "metadata": {
    "collapsed": true
   },
   "outputs": [],
   "source": [
    "x1=[]\n",
    "start=datetime.strptime(x[0][0], date_format)\n",
    "for i in range(len(x)):\n",
    "    a=datetime.strptime(x[i][0], date_format)\n",
    "    diff=a-start\n",
    "    x1.append(diff.days)"
   ]
  },
  {
   "cell_type": "code",
   "execution_count": 11,
   "metadata": {},
   "outputs": [
    {
     "data": {
      "image/png": "[encoded data removed]",
      "text/plain": [
       "<matplotlib.figure.Figure at 0x1ee2922b6a0>"
      ]
     },
     "metadata": {},
     "output_type": "display_data"
    }
   ],
   "source": [
    "plt.plot(x1,y)\n",
    "plt.xlabel(\"Time period\")\n",
    "plt.ylabel(\"Sales\")\n",
    "plt.show()"
   ]
  },
  {
   "cell_type": "code",
   "execution_count": 12,
   "metadata": {},
   "outputs": [
    {
     "ename": "NameError",
     "evalue": "name 'p' is not defined",
     "output_type": "error",
     "traceback": [
      "\u001b[1;31m---------------------------------------------------------------------------\u001b[0m",
      "\u001b[1;31mNameError\u001b[0m                                 Traceback (most recent call last)",
      "\u001b[1;32m<ipython-input-12-1a01a91d967c>\u001b[0m in \u001b[0;36m<module>\u001b[1;34m()\u001b[0m\n\u001b[0;32m      1\u001b[0m \u001b[0mplt\u001b[0m\u001b[1;33m.\u001b[0m\u001b[0mplot\u001b[0m\u001b[1;33m(\u001b[0m\u001b[0mx1\u001b[0m\u001b[1;33m,\u001b[0m\u001b[0my\u001b[0m\u001b[1;33m)\u001b[0m\u001b[1;33m\u001b[0m\u001b[0m\n\u001b[1;32m----> 2\u001b[1;33m \u001b[0mp\u001b[0m\u001b[1;33m.\u001b[0m\u001b[0mt\u001b[0m\u001b[1;33m.\u001b[0m\u001b[0mplot\u001b[0m\u001b[1;33m\u001b[0m\u001b[0m\n\u001b[0m\u001b[0;32m      3\u001b[0m \u001b[0mplt\u001b[0m\u001b[1;33m.\u001b[0m\u001b[0mshow\u001b[0m\u001b[1;33m(\u001b[0m\u001b[1;33m)\u001b[0m\u001b[1;33m\u001b[0m\u001b[0m\n",
      "\u001b[1;31mNameError\u001b[0m: name 'p' is not defined"
     ]
    }
   ],
   "source": [
    "plt.plot(x1,y)\n",
    "p.t.plot\n",
    "plt.show()"
   ]
  },
  {
   "cell_type": "code",
   "execution_count": 13,
   "metadata": {},
   "outputs": [
    {
     "name": "stdout",
     "output_type": "stream",
     "text": [
      "[0, 1, 2, 3, 4, 5, 6] -> [[ 0.12056738]\n",
      " [ 0.14539007]\n",
      " [ 0.19148936]\n",
      " [ 0.14539007]\n",
      " [ 0.12411348]\n",
      " [ 0.15602837]\n",
      " [ 0.17730496]]\n",
      "[1, 2, 3, 4, 5, 6, 7] -> [[ 0.14539007]\n",
      " [ 0.19148936]\n",
      " [ 0.14539007]\n",
      " [ 0.12411348]\n",
      " [ 0.15602837]\n",
      " [ 0.17730496]\n",
      " [ 0.14893617]]\n"
     ]
    }
   ],
   "source": [
    "dataX=[]\n",
    "dataY=[]\n",
    "for i in range(0,len(y)-seq_length):\n",
    "    _x=x1[i:i+seq_length]\n",
    "    _y=y[i:i+seq_length]\n",
    "    if i<2: print(_x,\"->\",_y)\n",
    "    dataX.append(_x)\n",
    "    dataY.append(_y)"
   ]
  },
  {
   "cell_type": "code",
   "execution_count": 14,
   "metadata": {},
   "outputs": [
    {
     "data": {
      "text/plain": [
       "[[0, 1, 2, 3, 4, 5, 6],\n",
       " [1, 2, 3, 4, 5, 6, 7],\n",
       " [2, 3, 4, 5, 6, 7, 8],\n",
       " [3, 4, 5, 6, 7, 8, 9],\n",
       " [4, 5, 6, 7, 8, 9, 10],\n",
       " [5, 6, 7, 8, 9, 10, 11],\n",
       " [6, 7, 8, 9, 10, 11, 12],\n",
       " [7, 8, 9, 10, 11, 12, 13],\n",
       " [8, 9, 10, 11, 12, 13, 14],\n",
       " [9, 10, 11, 12, 13, 14, 15],\n",
       " [10, 11, 12, 13, 14, 15, 16],\n",
       " [11, 12, 13, 14, 15, 16, 17],\n",
       " [12, 13, 14, 15, 16, 17, 18],\n",
       " [13, 14, 15, 16, 17, 18, 19],\n",
       " [14, 15, 16, 17, 18, 19, 20],\n",
       " [15, 16, 17, 18, 19, 20, 21],\n",
       " [16, 17, 18, 19, 20, 21, 22],\n",
       " [17, 18, 19, 20, 21, 22, 23],\n",
       " [18, 19, 20, 21, 22, 23, 24],\n",
       " [19, 20, 21, 22, 23, 24, 25],\n",
       " [20, 21, 22, 23, 24, 25, 26],\n",
       " [21, 22, 23, 24, 25, 26, 27],\n",
       " [22, 23, 24, 25, 26, 27, 28],\n",
       " [23, 24, 25, 26, 27, 28, 29],\n",
       " [24, 25, 26, 27, 28, 29, 30],\n",
       " [25, 26, 27, 28, 29, 30, 31],\n",
       " [26, 27, 28, 29, 30, 31, 32],\n",
       " [27, 28, 29, 30, 31, 32, 33],\n",
       " [28, 29, 30, 31, 32, 33, 34],\n",
       " [29, 30, 31, 32, 33, 34, 35],\n",
       " [30, 31, 32, 33, 34, 35, 36],\n",
       " [31, 32, 33, 34, 35, 36, 37],\n",
       " [32, 33, 34, 35, 36, 37, 38],\n",
       " [33, 34, 35, 36, 37, 38, 39],\n",
       " [34, 35, 36, 37, 38, 39, 40],\n",
       " [35, 36, 37, 38, 39, 40, 41],\n",
       " [36, 37, 38, 39, 40, 41, 42],\n",
       " [37, 38, 39, 40, 41, 42, 43],\n",
       " [38, 39, 40, 41, 42, 43, 44],\n",
       " [39, 40, 41, 42, 43, 44, 45],\n",
       " [40, 41, 42, 43, 44, 45, 46],\n",
       " [41, 42, 43, 44, 45, 46, 47],\n",
       " [42, 43, 44, 45, 46, 47, 48],\n",
       " [43, 44, 45, 46, 47, 48, 49],\n",
       " [44, 45, 46, 47, 48, 49, 50],\n",
       " [45, 46, 47, 48, 49, 50, 51],\n",
       " [46, 47, 48, 49, 50, 51, 52],\n",
       " [47, 48, 49, 50, 51, 52, 53],\n",
       " [48, 49, 50, 51, 52, 53, 54],\n",
       " [49, 50, 51, 52, 53, 54, 55],\n",
       " [50, 51, 52, 53, 54, 55, 56],\n",
       " [51, 52, 53, 54, 55, 56, 57],\n",
       " [52, 53, 54, 55, 56, 57, 58],\n",
       " [53, 54, 55, 56, 57, 58, 59],\n",
       " [54, 55, 56, 57, 58, 59, 60],\n",
       " [55, 56, 57, 58, 59, 60, 61],\n",
       " [56, 57, 58, 59, 60, 61, 62],\n",
       " [57, 58, 59, 60, 61, 62, 63],\n",
       " [58, 59, 60, 61, 62, 63, 64],\n",
       " [59, 60, 61, 62, 63, 64, 65],\n",
       " [60, 61, 62, 63, 64, 65, 66],\n",
       " [61, 62, 63, 64, 65, 66, 67],\n",
       " [62, 63, 64, 65, 66, 67, 68],\n",
       " [63, 64, 65, 66, 67, 68, 69],\n",
       " [64, 65, 66, 67, 68, 69, 70],\n",
       " [65, 66, 67, 68, 69, 70, 71],\n",
       " [66, 67, 68, 69, 70, 71, 72],\n",
       " [67, 68, 69, 70, 71, 72, 73],\n",
       " [68, 69, 70, 71, 72, 73, 74],\n",
       " [69, 70, 71, 72, 73, 74, 75],\n",
       " [70, 71, 72, 73, 74, 75, 76],\n",
       " [71, 72, 73, 74, 75, 76, 77],\n",
       " [72, 73, 74, 75, 76, 77, 78],\n",
       " [73, 74, 75, 76, 77, 78, 79],\n",
       " [74, 75, 76, 77, 78, 79, 80],\n",
       " [75, 76, 77, 78, 79, 80, 81],\n",
       " [76, 77, 78, 79, 80, 81, 82],\n",
       " [77, 78, 79, 80, 81, 82, 83],\n",
       " [78, 79, 80, 81, 82, 83, 84],\n",
       " [79, 80, 81, 82, 83, 84, 85],\n",
       " [80, 81, 82, 83, 84, 85, 86],\n",
       " [81, 82, 83, 84, 85, 86, 87],\n",
       " [82, 83, 84, 85, 86, 87, 88],\n",
       " [83, 84, 85, 86, 87, 88, 89],\n",
       " [84, 85, 86, 87, 88, 89, 90],\n",
       " [85, 86, 87, 88, 89, 90, 91],\n",
       " [86, 87, 88, 89, 90, 91, 92],\n",
       " [87, 88, 89, 90, 91, 92, 93],\n",
       " [88, 89, 90, 91, 92, 93, 94],\n",
       " [89, 90, 91, 92, 93, 94, 95],\n",
       " [90, 91, 92, 93, 94, 95, 96],\n",
       " [91, 92, 93, 94, 95, 96, 97],\n",
       " [92, 93, 94, 95, 96, 97, 98],\n",
       " [93, 94, 95, 96, 97, 98, 99],\n",
       " [94, 95, 96, 97, 98, 99, 100],\n",
       " [95, 96, 97, 98, 99, 100, 101],\n",
       " [96, 97, 98, 99, 100, 101, 102],\n",
       " [97, 98, 99, 100, 101, 102, 103],\n",
       " [98, 99, 100, 101, 102, 103, 104],\n",
       " [99, 100, 101, 102, 103, 104, 105],\n",
       " [100, 101, 102, 103, 104, 105, 106],\n",
       " [101, 102, 103, 104, 105, 106, 107],\n",
       " [102, 103, 104, 105, 106, 107, 108],\n",
       " [103, 104, 105, 106, 107, 108, 109],\n",
       " [104, 105, 106, 107, 108, 109, 110],\n",
       " [105, 106, 107, 108, 109, 110, 111],\n",
       " [106, 107, 108, 109, 110, 111, 112],\n",
       " [107, 108, 109, 110, 111, 112, 113],\n",
       " [108, 109, 110, 111, 112, 113, 114],\n",
       " [109, 110, 111, 112, 113, 114, 115],\n",
       " [110, 111, 112, 113, 114, 115, 116],\n",
       " [111, 112, 113, 114, 115, 116, 117],\n",
       " [112, 113, 114, 115, 116, 117, 118],\n",
       " [113, 114, 115, 116, 117, 118, 119],\n",
       " [114, 115, 116, 117, 118, 119, 120],\n",
       " [115, 116, 117, 118, 119, 120, 121],\n",
       " [116, 117, 118, 119, 120, 121, 122],\n",
       " [117, 118, 119, 120, 121, 122, 123],\n",
       " [118, 119, 120, 121, 122, 123, 124],\n",
       " [119, 120, 121, 122, 123, 124, 125],\n",
       " [120, 121, 122, 123, 124, 125, 126],\n",
       " [121, 122, 123, 124, 125, 126, 127],\n",
       " [122, 123, 124, 125, 126, 127, 128],\n",
       " [123, 124, 125, 126, 127, 128, 129],\n",
       " [124, 125, 126, 127, 128, 129, 130],\n",
       " [125, 126, 127, 128, 129, 130, 131],\n",
       " [126, 127, 128, 129, 130, 131, 132],\n",
       " [127, 128, 129, 130, 131, 132, 133],\n",
       " [128, 129, 130, 131, 132, 133, 134],\n",
       " [129, 130, 131, 132, 133, 134, 135],\n",
       " [130, 131, 132, 133, 134, 135, 136],\n",
       " [131, 132, 133, 134, 135, 136, 137],\n",
       " [132, 133, 134, 135, 136, 137, 138],\n",
       " [133, 134, 135, 136, 137, 138, 139],\n",
       " [134, 135, 136, 137, 138, 139, 140],\n",
       " [135, 136, 137, 138, 139, 140, 141],\n",
       " [136, 137, 138, 139, 140, 141, 142],\n",
       " [137, 138, 139, 140, 141, 142, 143],\n",
       " [138, 139, 140, 141, 142, 143, 144],\n",
       " [139, 140, 141, 142, 143, 144, 145],\n",
       " [140, 141, 142, 143, 144, 145, 146],\n",
       " [141, 142, 143, 144, 145, 146, 147],\n",
       " [142, 143, 144, 145, 146, 147, 148],\n",
       " [143, 144, 145, 146, 147, 148, 149],\n",
       " [144, 145, 146, 147, 148, 149, 150],\n",
       " [145, 146, 147, 148, 149, 150, 151],\n",
       " [146, 147, 148, 149, 150, 151, 152],\n",
       " [147, 148, 149, 150, 151, 152, 153],\n",
       " [148, 149, 150, 151, 152, 153, 154],\n",
       " [149, 150, 151, 152, 153, 154, 155],\n",
       " [150, 151, 152, 153, 154, 155, 156],\n",
       " [151, 152, 153, 154, 155, 156, 157],\n",
       " [152, 153, 154, 155, 156, 157, 158],\n",
       " [153, 154, 155, 156, 157, 158, 159],\n",
       " [154, 155, 156, 157, 158, 159, 160],\n",
       " [155, 156, 157, 158, 159, 160, 161],\n",
       " [156, 157, 158, 159, 160, 161, 162],\n",
       " [157, 158, 159, 160, 161, 162, 163],\n",
       " [158, 159, 160, 161, 162, 163, 164],\n",
       " [159, 160, 161, 162, 163, 164, 165],\n",
       " [160, 161, 162, 163, 164, 165, 166],\n",
       " [161, 162, 163, 164, 165, 166, 167],\n",
       " [162, 163, 164, 165, 166, 167, 168],\n",
       " [163, 164, 165, 166, 167, 168, 169],\n",
       " [164, 165, 166, 167, 168, 169, 170],\n",
       " [165, 166, 167, 168, 169, 170, 171],\n",
       " [166, 167, 168, 169, 170, 171, 172],\n",
       " [167, 168, 169, 170, 171, 172, 173],\n",
       " [168, 169, 170, 171, 172, 173, 174],\n",
       " [169, 170, 171, 172, 173, 174, 175],\n",
       " [170, 171, 172, 173, 174, 175, 176],\n",
       " [171, 172, 173, 174, 175, 176, 177],\n",
       " [172, 173, 174, 175, 176, 177, 178],\n",
       " [173, 174, 175, 176, 177, 178, 179],\n",
       " [174, 175, 176, 177, 178, 179, 180],\n",
       " [175, 176, 177, 178, 179, 180, 181],\n",
       " [176, 177, 178, 179, 180, 181, 182],\n",
       " [177, 178, 179, 180, 181, 182, 183],\n",
       " [178, 179, 180, 181, 182, 183, 184],\n",
       " [179, 180, 181, 182, 183, 184, 185],\n",
       " [180, 181, 182, 183, 184, 185, 186],\n",
       " [181, 182, 183, 184, 185, 186, 187],\n",
       " [182, 183, 184, 185, 186, 187, 188],\n",
       " [183, 184, 185, 186, 187, 188, 189],\n",
       " [184, 185, 186, 187, 188, 189, 190],\n",
       " [185, 186, 187, 188, 189, 190, 191],\n",
       " [186, 187, 188, 189, 190, 191, 192],\n",
       " [187, 188, 189, 190, 191, 192, 193],\n",
       " [188, 189, 190, 191, 192, 193, 194],\n",
       " [189, 190, 191, 192, 193, 194, 195],\n",
       " [190, 191, 192, 193, 194, 195, 196],\n",
       " [191, 192, 193, 194, 195, 196, 197],\n",
       " [192, 193, 194, 195, 196, 197, 198],\n",
       " [193, 194, 195, 196, 197, 198, 199],\n",
       " [194, 195, 196, 197, 198, 199, 200],\n",
       " [195, 196, 197, 198, 199, 200, 201],\n",
       " [196, 197, 198, 199, 200, 201, 202],\n",
       " [197, 198, 199, 200, 201, 202, 203],\n",
       " [198, 199, 200, 201, 202, 203, 204],\n",
       " [199, 200, 201, 202, 203, 204, 205],\n",
       " [200, 201, 202, 203, 204, 205, 206],\n",
       " [201, 202, 203, 204, 205, 206, 207],\n",
       " [202, 203, 204, 205, 206, 207, 208],\n",
       " [203, 204, 205, 206, 207, 208, 209],\n",
       " [204, 205, 206, 207, 208, 209, 210],\n",
       " [205, 206, 207, 208, 209, 210, 211],\n",
       " [206, 207, 208, 209, 210, 211, 212],\n",
       " [207, 208, 209, 210, 211, 212, 213],\n",
       " [208, 209, 210, 211, 212, 213, 214],\n",
       " [209, 210, 211, 212, 213, 214, 215],\n",
       " [210, 211, 212, 213, 214, 215, 216],\n",
       " [211, 212, 213, 214, 215, 216, 217],\n",
       " [212, 213, 214, 215, 216, 217, 218],\n",
       " [213, 214, 215, 216, 217, 218, 219],\n",
       " [214, 215, 216, 217, 218, 219, 220],\n",
       " [215, 216, 217, 218, 219, 220, 221],\n",
       " [216, 217, 218, 219, 220, 221, 222],\n",
       " [217, 218, 219, 220, 221, 222, 223],\n",
       " [218, 219, 220, 221, 222, 223, 224],\n",
       " [219, 220, 221, 222, 223, 224, 225],\n",
       " [220, 221, 222, 223, 224, 225, 226],\n",
       " [221, 222, 223, 224, 225, 226, 227],\n",
       " [222, 223, 224, 225, 226, 227, 228],\n",
       " [223, 224, 225, 226, 227, 228, 229],\n",
       " [224, 225, 226, 227, 228, 229, 230],\n",
       " [225, 226, 227, 228, 229, 230, 231],\n",
       " [226, 227, 228, 229, 230, 231, 232],\n",
       " [227, 228, 229, 230, 231, 232, 233],\n",
       " [228, 229, 230, 231, 232, 233, 234],\n",
       " [229, 230, 231, 232, 233, 234, 235],\n",
       " [230, 231, 232, 233, 234, 235, 236],\n",
       " [231, 232, 233, 234, 235, 236, 237],\n",
       " [232, 233, 234, 235, 236, 237, 238],\n",
       " [233, 234, 235, 236, 237, 238, 239],\n",
       " [234, 235, 236, 237, 238, 239, 240],\n",
       " [235, 236, 237, 238, 239, 240, 241],\n",
       " [236, 237, 238, 239, 240, 241, 242],\n",
       " [237, 238, 239, 240, 241, 242, 243],\n",
       " [238, 239, 240, 241, 242, 243, 244],\n",
       " [239, 240, 241, 242, 243, 244, 245],\n",
       " [240, 241, 242, 243, 244, 245, 246],\n",
       " [241, 242, 243, 244, 245, 246, 247],\n",
       " [242, 243, 244, 245, 246, 247, 248],\n",
       " [243, 244, 245, 246, 247, 248, 249],\n",
       " [244, 245, 246, 247, 248, 249, 250],\n",
       " [245, 246, 247, 248, 249, 250, 251],\n",
       " [246, 247, 248, 249, 250, 251, 252],\n",
       " [247, 248, 249, 250, 251, 252, 253],\n",
       " [248, 249, 250, 251, 252, 253, 254],\n",
       " [249, 250, 251, 252, 253, 254, 255],\n",
       " [250, 251, 252, 253, 254, 255, 256],\n",
       " [251, 252, 253, 254, 255, 256, 257],\n",
       " [252, 253, 254, 255, 256, 257, 258],\n",
       " [253, 254, 255, 256, 257, 258, 259],\n",
       " [254, 255, 256, 257, 258, 259, 260],\n",
       " [255, 256, 257, 258, 259, 260, 261],\n",
       " [256, 257, 258, 259, 260, 261, 262],\n",
       " [257, 258, 259, 260, 261, 262, 263],\n",
       " [258, 259, 260, 261, 262, 263, 264],\n",
       " [259, 260, 261, 262, 263, 264, 265],\n",
       " [260, 261, 262, 263, 264, 265, 266],\n",
       " [261, 262, 263, 264, 265, 266, 267],\n",
       " [262, 263, 264, 265, 266, 267, 268],\n",
       " [263, 264, 265, 266, 267, 268, 269],\n",
       " [264, 265, 266, 267, 268, 269, 270],\n",
       " [265, 266, 267, 268, 269, 270, 271],\n",
       " [266, 267, 268, 269, 270, 271, 272],\n",
       " [267, 268, 269, 270, 271, 272, 273],\n",
       " [268, 269, 270, 271, 272, 273, 274],\n",
       " [269, 270, 271, 272, 273, 274, 275],\n",
       " [270, 271, 272, 273, 274, 275, 276],\n",
       " [271, 272, 273, 274, 275, 276, 277],\n",
       " [272, 273, 274, 275, 276, 277, 278],\n",
       " [273, 274, 275, 276, 277, 278, 279],\n",
       " [274, 275, 276, 277, 278, 279, 280],\n",
       " [275, 276, 277, 278, 279, 280, 281],\n",
       " [276, 277, 278, 279, 280, 281, 282],\n",
       " [277, 278, 279, 280, 281, 282, 283],\n",
       " [278, 279, 280, 281, 282, 283, 284],\n",
       " [279, 280, 281, 282, 283, 284, 285],\n",
       " [280, 281, 282, 283, 284, 285, 286],\n",
       " [281, 282, 283, 284, 285, 286, 287],\n",
       " [282, 283, 284, 285, 286, 287, 288],\n",
       " [283, 284, 285, 286, 287, 288, 289],\n",
       " [284, 285, 286, 287, 288, 289, 290],\n",
       " [285, 286, 287, 288, 289, 290, 291],\n",
       " [286, 287, 288, 289, 290, 291, 292],\n",
       " [287, 288, 289, 290, 291, 292, 293],\n",
       " [288, 289, 290, 291, 292, 293, 294],\n",
       " [289, 290, 291, 292, 293, 294, 295],\n",
       " [290, 291, 292, 293, 294, 295, 296],\n",
       " [291, 292, 293, 294, 295, 296, 297],\n",
       " [292, 293, 294, 295, 296, 297, 298],\n",
       " [293, 294, 295, 296, 297, 298, 299],\n",
       " [294, 295, 296, 297, 298, 299, 300],\n",
       " [295, 296, 297, 298, 299, 300, 301],\n",
       " [296, 297, 298, 299, 300, 301, 302],\n",
       " [297, 298, 299, 300, 301, 302, 303],\n",
       " [298, 299, 300, 301, 302, 303, 304],\n",
       " [299, 300, 301, 302, 303, 304, 305],\n",
       " [300, 301, 302, 303, 304, 305, 306],\n",
       " [301, 302, 303, 304, 305, 306, 307],\n",
       " [302, 303, 304, 305, 306, 307, 308],\n",
       " [303, 304, 305, 306, 307, 308, 309],\n",
       " [304, 305, 306, 307, 308, 309, 310],\n",
       " [305, 306, 307, 308, 309, 310, 311],\n",
       " [306, 307, 308, 309, 310, 311, 312],\n",
       " [307, 308, 309, 310, 311, 312, 313],\n",
       " [308, 309, 310, 311, 312, 313, 314],\n",
       " [309, 310, 311, 312, 313, 314, 315],\n",
       " [310, 311, 312, 313, 314, 315, 316],\n",
       " [311, 312, 313, 314, 315, 316, 317],\n",
       " [312, 313, 314, 315, 316, 317, 318],\n",
       " [313, 314, 315, 316, 317, 318, 319],\n",
       " [314, 315, 316, 317, 318, 319, 320],\n",
       " [315, 316, 317, 318, 319, 320, 321],\n",
       " [316, 317, 318, 319, 320, 321, 322],\n",
       " [317, 318, 319, 320, 321, 322, 323],\n",
       " [318, 319, 320, 321, 322, 323, 324],\n",
       " [319, 320, 321, 322, 323, 324, 325],\n",
       " [320, 321, 322, 323, 324, 325, 326],\n",
       " [321, 322, 323, 324, 325, 326, 327],\n",
       " [322, 323, 324, 325, 326, 327, 328],\n",
       " [323, 324, 325, 326, 327, 328, 329],\n",
       " [324, 325, 326, 327, 328, 329, 330],\n",
       " [325, 326, 327, 328, 329, 330, 331],\n",
       " [326, 327, 328, 329, 330, 331, 332],\n",
       " [327, 328, 329, 330, 331, 332, 333],\n",
       " [328, 329, 330, 331, 332, 333, 334],\n",
       " [329, 330, 331, 332, 333, 334, 335],\n",
       " [330, 331, 332, 333, 334, 335, 336],\n",
       " [331, 332, 333, 334, 335, 336, 337],\n",
       " [332, 333, 334, 335, 336, 337, 338],\n",
       " [333, 334, 335, 336, 337, 338, 339],\n",
       " [334, 335, 336, 337, 338, 339, 340],\n",
       " [335, 336, 337, 338, 339, 340, 341],\n",
       " [336, 337, 338, 339, 340, 341, 342],\n",
       " [337, 338, 339, 340, 341, 342, 343],\n",
       " [338, 339, 340, 341, 342, 343, 344],\n",
       " [339, 340, 341, 342, 343, 344, 345],\n",
       " [340, 341, 342, 343, 344, 345, 346],\n",
       " [341, 342, 343, 344, 345, 346, 347],\n",
       " [342, 343, 344, 345, 346, 347, 348],\n",
       " [343, 344, 345, 346, 347, 348, 349],\n",
       " [344, 345, 346, 347, 348, 349, 350],\n",
       " [345, 346, 347, 348, 349, 350, 351],\n",
       " [346, 347, 348, 349, 350, 351, 352],\n",
       " [347, 348, 349, 350, 351, 352, 353],\n",
       " [348, 349, 350, 351, 352, 353, 354],\n",
       " [349, 350, 351, 352, 353, 354, 355],\n",
       " [350, 351, 352, 353, 354, 355, 356],\n",
       " [351, 352, 353, 354, 355, 356, 357],\n",
       " [352, 353, 354, 355, 356, 357, 358],\n",
       " [353, 354, 355, 356, 357, 358, 359],\n",
       " [354, 355, 356, 357, 358, 359, 360],\n",
       " [355, 356, 357, 358, 359, 360, 361],\n",
       " [356, 357, 358, 359, 360, 361, 362],\n",
       " [357, 358, 359, 360, 361, 362, 363],\n",
       " [358, 359, 360, 361, 362, 363, 364],\n",
       " [359, 360, 361, 362, 363, 364, 365],\n",
       " [360, 361, 362, 363, 364, 365, 366],\n",
       " [361, 362, 363, 364, 365, 366, 367],\n",
       " [362, 363, 364, 365, 366, 367, 368],\n",
       " [363, 364, 365, 366, 367, 368, 369],\n",
       " [364, 365, 366, 367, 368, 369, 370],\n",
       " [365, 366, 367, 368, 369, 370, 371],\n",
       " [366, 367, 368, 369, 370, 371, 372],\n",
       " [367, 368, 369, 370, 371, 372, 373],\n",
       " [368, 369, 370, 371, 372, 373, 374],\n",
       " [369, 370, 371, 372, 373, 374, 375],\n",
       " [370, 371, 372, 373, 374, 375, 376],\n",
       " [371, 372, 373, 374, 375, 376, 377],\n",
       " [372, 373, 374, 375, 376, 377, 378],\n",
       " [373, 374, 375, 376, 377, 378, 379],\n",
       " [374, 375, 376, 377, 378, 379, 380],\n",
       " [375, 376, 377, 378, 379, 380, 381],\n",
       " [376, 377, 378, 379, 380, 381, 382],\n",
       " [377, 378, 379, 380, 381, 382, 383],\n",
       " [378, 379, 380, 381, 382, 383, 384],\n",
       " [379, 380, 381, 382, 383, 384, 385],\n",
       " [380, 381, 382, 383, 384, 385, 386],\n",
       " [381, 382, 383, 384, 385, 386, 387],\n",
       " [382, 383, 384, 385, 386, 387, 388],\n",
       " [383, 384, 385, 386, 387, 388, 389],\n",
       " [384, 385, 386, 387, 388, 389, 390],\n",
       " [385, 386, 387, 388, 389, 390, 391],\n",
       " [386, 387, 388, 389, 390, 391, 392],\n",
       " [387, 388, 389, 390, 391, 392, 393],\n",
       " [388, 389, 390, 391, 392, 393, 394],\n",
       " [389, 390, 391, 392, 393, 394, 395]]"
      ]
     },
     "execution_count": 14,
     "metadata": {},
     "output_type": "execute_result"
    }
   ],
   "source": [
    "dataX"
   ]
  },
  {
   "cell_type": "code",
   "execution_count": 32,
   "metadata": {},
   "outputs": [
    {
     "data": {
      "text/plain": [
       "390"
      ]
     },
     "execution_count": 32,
     "metadata": {},
     "output_type": "execute_result"
    }
   ],
   "source": [
    "len(dataX)"
   ]
  },
  {
   "cell_type": "code",
   "execution_count": 15,
   "metadata": {
    "collapsed": true
   },
   "outputs": [],
   "source": [
    "train_size=int(len(dataY)*0.7)\n",
    "test_size= len(dataY)-train_size\n",
    "trainX, testX=np.array(dataX[0:train_size]), np.array(dataX[train_size: len(dataX)])\n",
    "trainY, testY=np.array(dataY[0:train_size]), np.array(dataY[train_size:len(dataY)])"
   ]
  },
  {
   "cell_type": "code",
   "execution_count": 33,
   "metadata": {},
   "outputs": [
    {
     "data": {
      "text/plain": [
       "(273, 7)"
      ]
     },
     "execution_count": 33,
     "metadata": {},
     "output_type": "execute_result"
    }
   ],
   "source": [
    "trainX.shape"
   ]
  },
  {
   "cell_type": "code",
   "execution_count": null,
   "metadata": {
    "collapsed": true
   },
   "outputs": [],
   "source": []
  },
  {
   "cell_type": "code",
   "execution_count": 16,
   "metadata": {
    "collapsed": true
   },
   "outputs": [],
   "source": [
    "train_size=int(len(dataY)*0.7)\n",
    "test_size=len(dataY)-train_size\n",
    "trainX,testX=np.array(dataX[0:train_size]),np.array(dataY[train_size:])\n",
    "trainY, testY=np.array(dataY[0:train_size]), np.array(dataY[train_size:])"
   ]
  },
  {
   "cell_type": "code",
   "execution_count": 17,
   "metadata": {},
   "outputs": [
    {
     "name": "stdout",
     "output_type": "stream",
     "text": [
      "[[0 1 2 3 4 5 6]\n",
      " [1 2 3 4 5 6 7]]\n"
     ]
    }
   ],
   "source": [
    "print(trainX[:2])"
   ]
  },
  {
   "cell_type": "code",
   "execution_count": 18,
   "metadata": {},
   "outputs": [
    {
     "name": "stdout",
     "output_type": "stream",
     "text": [
      "[[[ 0.12056738]\n",
      "  [ 0.14539007]\n",
      "  [ 0.19148936]\n",
      "  [ 0.14539007]\n",
      "  [ 0.12411348]\n",
      "  [ 0.15602837]\n",
      "  [ 0.17730496]]\n",
      "\n",
      " [[ 0.14539007]\n",
      "  [ 0.19148936]\n",
      "  [ 0.14539007]\n",
      "  [ 0.12411348]\n",
      "  [ 0.15602837]\n",
      "  [ 0.17730496]\n",
      "  [ 0.14893617]]]\n"
     ]
    }
   ],
   "source": [
    "print(trainY[:2])"
   ]
  },
  {
   "cell_type": "code",
   "execution_count": 19,
   "metadata": {
    "collapsed": true
   },
   "outputs": [],
   "source": [
    "#input place holder\n",
    "X=tf.placeholder(tf.float32, [None, seq_length,data_dim]) \n",
    "\n",
    "#data dimension은 즉 feature의 개수인 것 같다. \n",
    "#ds-y와 같이 feature가 없는 상황에서는 data dimension\n",
    "Y=tf.placeholder(tf.float32,[None, 1])"
   ]
  },
  {
   "cell_type": "code",
   "execution_count": 20,
   "metadata": {
    "scrolled": true
   },
   "outputs": [
    {
     "data": {
      "text/plain": [
       "(273, 7)"
      ]
     },
     "execution_count": 20,
     "metadata": {},
     "output_type": "execute_result"
    }
   ],
   "source": [
    "trainX.shape"
   ]
  },
  {
   "cell_type": "code",
   "execution_count": 21,
   "metadata": {
    "collapsed": true
   },
   "outputs": [],
   "source": [
    "#build LSTM network\n",
    "cell=tf.contrib.rnn.BasicLSTMCell(num_units=hidden_dim, state_is_tuple=True, activation=tf.tanh)\n",
    "outputs, _states = tf.nn.dynamic_rnn(cell, X, dtype=tf.float32)"
   ]
  },
  {
   "cell_type": "code",
   "execution_count": 22,
   "metadata": {
    "scrolled": true
   },
   "outputs": [
    {
     "data": {
      "text/plain": [
       "(<tf.Tensor 'rnn_1/transpose:0' shape=(?, 7, 10) dtype=float32>,\n",
       " LSTMStateTuple(c=<tf.Tensor 'rnn_1/while/Exit_2:0' shape=(?, 10) dtype=float32>, h=<tf.Tensor 'rnn_1/while/Exit_3:0' shape=(?, 10) dtype=float32>))"
      ]
     },
     "execution_count": 22,
     "metadata": {},
     "output_type": "execute_result"
    }
   ],
   "source": [
    "tf.nn.dynamic_rnn(cell, X, dtype=tf.float32)"
   ]
  },
  {
   "cell_type": "code",
   "execution_count": 25,
   "metadata": {
    "collapsed": true
   },
   "outputs": [],
   "source": [
    "#outputs[:,-1]: all batch of data_dim of last seq_length\n",
    "Y_pred=tf.contrib.layers.fully_connected(outputs[:,-1], output_dim, activation_fn=None)\n",
    "#we use the last cell's output\n",
    "#cost/loss\n",
    "loss=tf.reduce_sum(tf.square(tf.square(Y_pred-Y)))\n",
    "#optimizer\n",
    "optimizer = tf.train.AdamOptimizer(learning_rate)\n",
    "train = optimizer.minimize(loss)"
   ]
  },
  {
   "cell_type": "code",
   "execution_count": 43,
   "metadata": {},
   "outputs": [
    {
     "data": {
      "text/plain": [
       "(273, 7, 1)"
      ]
     },
     "execution_count": 43,
     "metadata": {},
     "output_type": "execute_result"
    }
   ],
   "source": [
    "trainY.shape"
   ]
  },
  {
   "cell_type": "code",
   "execution_count": 45,
   "metadata": {},
   "outputs": [
    {
     "data": {
      "text/plain": [
       "(117, 7, 1)"
      ]
     },
     "execution_count": 45,
     "metadata": {},
     "output_type": "execute_result"
    }
   ],
   "source": [
    "testX.shape"
   ]
  },
  {
   "cell_type": "code",
   "execution_count": 46,
   "metadata": {
    "scrolled": true
   },
   "outputs": [
    {
     "ename": "ValueError",
     "evalue": "Cannot feed value of shape (273, 7, 1) for Tensor 'Placeholder_3:0', which has shape '(?, 1)'",
     "output_type": "error",
     "traceback": [
      "\u001b[1;31m---------------------------------------------------------------------------\u001b[0m",
      "\u001b[1;31mValueError\u001b[0m                                Traceback (most recent call last)",
      "\u001b[1;32m<ipython-input-46-8e5f0b928190>\u001b[0m in \u001b[0;36m<module>\u001b[1;34m()\u001b[0m\n\u001b[0;32m      8\u001b[0m     \u001b[1;31m# Training step\u001b[0m\u001b[1;33m\u001b[0m\u001b[1;33m\u001b[0m\u001b[0m\n\u001b[0;32m      9\u001b[0m     \u001b[1;32mfor\u001b[0m \u001b[0mi\u001b[0m \u001b[1;32min\u001b[0m \u001b[0mrange\u001b[0m\u001b[1;33m(\u001b[0m\u001b[0miterations\u001b[0m\u001b[1;33m)\u001b[0m\u001b[1;33m:\u001b[0m\u001b[1;33m\u001b[0m\u001b[0m\n\u001b[1;32m---> 10\u001b[1;33m         \u001b[0m_\u001b[0m\u001b[1;33m,\u001b[0m \u001b[0mstep_loss\u001b[0m \u001b[1;33m=\u001b[0m \u001b[0msess\u001b[0m\u001b[1;33m.\u001b[0m\u001b[0mrun\u001b[0m\u001b[1;33m(\u001b[0m\u001b[1;33m[\u001b[0m\u001b[0mtrain\u001b[0m\u001b[1;33m,\u001b[0m \u001b[0mloss\u001b[0m\u001b[1;33m]\u001b[0m\u001b[1;33m,\u001b[0m \u001b[0mfeed_dict\u001b[0m\u001b[1;33m=\u001b[0m\u001b[1;33m{\u001b[0m\u001b[0mX\u001b[0m\u001b[1;33m:\u001b[0m \u001b[0mtrainX\u001b[0m\u001b[1;33m,\u001b[0m \u001b[0mY\u001b[0m\u001b[1;33m:\u001b[0m \u001b[0mtrainY\u001b[0m\u001b[1;33m}\u001b[0m\u001b[1;33m)\u001b[0m\u001b[1;33m\u001b[0m\u001b[0m\n\u001b[0m\u001b[0;32m     11\u001b[0m         \u001b[0mprint\u001b[0m\u001b[1;33m(\u001b[0m\u001b[1;34m\"[step: {}] loss: {}\"\u001b[0m\u001b[1;33m.\u001b[0m\u001b[0mformat\u001b[0m\u001b[1;33m(\u001b[0m\u001b[0mi\u001b[0m\u001b[1;33m,\u001b[0m \u001b[0mstep_loss\u001b[0m\u001b[1;33m)\u001b[0m\u001b[1;33m)\u001b[0m\u001b[1;33m\u001b[0m\u001b[0m\n\u001b[0;32m     12\u001b[0m \u001b[1;31m#         print(sess.run(outputs[:, -1], feed_dict={X: trainX, Y: trainY}))\u001b[0m\u001b[1;33m\u001b[0m\u001b[1;33m\u001b[0m\u001b[0m\n",
      "\u001b[1;32mc:\\users\\user\\anaconda3\\envs\\tensorflow\\lib\\site-packages\\tensorflow\\python\\client\\session.py\u001b[0m in \u001b[0;36mrun\u001b[1;34m(self, fetches, feed_dict, options, run_metadata)\u001b[0m\n\u001b[0;32m    787\u001b[0m     \u001b[1;32mtry\u001b[0m\u001b[1;33m:\u001b[0m\u001b[1;33m\u001b[0m\u001b[0m\n\u001b[0;32m    788\u001b[0m       result = self._run(None, fetches, feed_dict, options_ptr,\n\u001b[1;32m--> 789\u001b[1;33m                          run_metadata_ptr)\n\u001b[0m\u001b[0;32m    790\u001b[0m       \u001b[1;32mif\u001b[0m \u001b[0mrun_metadata\u001b[0m\u001b[1;33m:\u001b[0m\u001b[1;33m\u001b[0m\u001b[0m\n\u001b[0;32m    791\u001b[0m         \u001b[0mproto_data\u001b[0m \u001b[1;33m=\u001b[0m \u001b[0mtf_session\u001b[0m\u001b[1;33m.\u001b[0m\u001b[0mTF_GetBuffer\u001b[0m\u001b[1;33m(\u001b[0m\u001b[0mrun_metadata_ptr\u001b[0m\u001b[1;33m)\u001b[0m\u001b[1;33m\u001b[0m\u001b[0m\n",
      "\u001b[1;32mc:\\users\\user\\anaconda3\\envs\\tensorflow\\lib\\site-packages\\tensorflow\\python\\client\\session.py\u001b[0m in \u001b[0;36m_run\u001b[1;34m(self, handle, fetches, feed_dict, options, run_metadata)\u001b[0m\n\u001b[0;32m    973\u001b[0m                 \u001b[1;34m'Cannot feed value of shape %r for Tensor %r, '\u001b[0m\u001b[1;33m\u001b[0m\u001b[0m\n\u001b[0;32m    974\u001b[0m                 \u001b[1;34m'which has shape %r'\u001b[0m\u001b[1;33m\u001b[0m\u001b[0m\n\u001b[1;32m--> 975\u001b[1;33m                 % (np_val.shape, subfeed_t.name, str(subfeed_t.get_shape())))\n\u001b[0m\u001b[0;32m    976\u001b[0m           \u001b[1;32mif\u001b[0m \u001b[1;32mnot\u001b[0m \u001b[0mself\u001b[0m\u001b[1;33m.\u001b[0m\u001b[0mgraph\u001b[0m\u001b[1;33m.\u001b[0m\u001b[0mis_feedable\u001b[0m\u001b[1;33m(\u001b[0m\u001b[0msubfeed_t\u001b[0m\u001b[1;33m)\u001b[0m\u001b[1;33m:\u001b[0m\u001b[1;33m\u001b[0m\u001b[0m\n\u001b[0;32m    977\u001b[0m             \u001b[1;32mraise\u001b[0m \u001b[0mValueError\u001b[0m\u001b[1;33m(\u001b[0m\u001b[1;34m'Tensor %s may not be fed.'\u001b[0m \u001b[1;33m%\u001b[0m \u001b[0msubfeed_t\u001b[0m\u001b[1;33m)\u001b[0m\u001b[1;33m\u001b[0m\u001b[0m\n",
      "\u001b[1;31mValueError\u001b[0m: Cannot feed value of shape (273, 7, 1) for Tensor 'Placeholder_3:0', which has shape '(?, 1)'"
     ]
    }
   ],
   "source": [
    "\n",
    "# train Parameters\n",
    "iterations = 200\n",
    "\n",
    "with tf.Session() as sess:\n",
    "    sess.run(tf.global_variables_initializer())\n",
    "    \n",
    "    # Training step\n",
    "    for i in range(iterations):\n",
    "        _, step_loss = sess.run([train, loss], feed_dict={X: trainX, Y: trainY})\n",
    "        print(\"[step: {}] loss: {}\".format(i, step_loss))\n",
    "#         print(sess.run(outputs[:, -1], feed_dict={X: trainX, Y: trainY}))\n",
    "        \n",
    "    # Test step\n",
    "    test_predict = sess.run(Y_pred, feed_dict={X: testX})\n",
    "    \n",
    "    # Plot predictions\n",
    "    plt.plot(testY)\n",
    "    plt.plot(test_predict)\n",
    "    plt.xlabel(\"Time Period\")\n",
    "    plt.ylabel(\"Stock Price\")\n",
    "    plt.show()"
   ]
  },
  {
   "cell_type": "code",
   "execution_count": null,
   "metadata": {
    "collapsed": true
   },
   "outputs": [],
   "source": [
    "Y_pred.shape"
   ]
  },
  {
   "cell_type": "code",
   "execution_count": null,
   "metadata": {
    "collapsed": true
   },
   "outputs": [],
   "source": [
    "testX.shape"
   ]
  },
  {
   "cell_type": "code",
   "execution_count": null,
   "metadata": {
    "collapsed": true
   },
   "outputs": [],
   "source": [
    "trainX.shape"
   ]
  },
  {
   "cell_type": "code",
   "execution_count": null,
   "metadata": {
    "collapsed": true
   },
   "outputs": [],
   "source": [
    "trainY.shape"
   ]
  },
  {
   "cell_type": "code",
   "execution_count": 34,
   "metadata": {},
   "outputs": [
    {
     "ename": "NameError",
     "evalue": "name 'array' is not defined",
     "output_type": "error",
     "traceback": [
      "\u001b[1;31m---------------------------------------------------------------------------\u001b[0m",
      "\u001b[1;31mNameError\u001b[0m                                 Traceback (most recent call last)",
      "\u001b[1;32m<ipython-input-34-057304df5d6b>\u001b[0m in \u001b[0;36m<module>\u001b[1;34m()\u001b[0m\n\u001b[1;32m----> 1\u001b[1;33m \u001b[0mdataX\u001b[0m\u001b[1;33m=\u001b[0m\u001b[0marray\u001b[0m\u001b[1;33m(\u001b[0m\u001b[0mdataX\u001b[0m\u001b[1;33m)\u001b[0m\u001b[1;33m.\u001b[0m\u001b[0mreshape\u001b[0m\u001b[1;33m(\u001b[0m\u001b[1;36m273\u001b[0m\u001b[1;33m,\u001b[0m\u001b[1;36m7\u001b[0m\u001b[1;33m,\u001b[0m\u001b[1;36m1\u001b[0m\u001b[1;33m)\u001b[0m\u001b[1;33m\u001b[0m\u001b[0m\n\u001b[0m",
      "\u001b[1;31mNameError\u001b[0m: name 'array' is not defined"
     ]
    }
   ],
   "source": [
    "dataX=array(dataX).reshape(273,7,1)"
   ]
  },
  {
   "cell_type": "code",
   "execution_count": 35,
   "metadata": {
    "collapsed": true
   },
   "outputs": [],
   "source": [
    "from numpy import array"
   ]
  },
  {
   "cell_type": "code",
   "execution_count": 39,
   "metadata": {
    "collapsed": true
   },
   "outputs": [],
   "source": [
    "trainX=array(trainX).reshape(273,7,1)"
   ]
  },
  {
   "cell_type": "code",
   "execution_count": 38,
   "metadata": {},
   "outputs": [
    {
     "data": {
      "text/plain": [
       "390"
      ]
     },
     "execution_count": 38,
     "metadata": {},
     "output_type": "execute_result"
    }
   ],
   "source": [
    "len(dataX)"
   ]
  },
  {
   "cell_type": "code",
   "execution_count": null,
   "metadata": {
    "collapsed": true
   },
   "outputs": [],
   "source": []
  }
 ],
 "metadata": {
  "kernelspec": {
   "display_name": "Python 3",
   "language": "python",
   "name": "python3"
  },
  "language_info": {
   "codemirror_mode": {
    "name": "ipython",
    "version": 3
   },
   "file_extension": ".py",
   "mimetype": "text/x-python",
   "name": "python",
   "nbconvert_exporter": "python",
   "pygments_lexer": "ipython3",
   "version": "3.5.3"
  }
 },
 "nbformat": 4,
 "nbformat_minor": 2
}
