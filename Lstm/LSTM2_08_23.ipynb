{
 "cells": [
  {
   "cell_type": "markdown",
   "metadata": {},
   "source": [
    "lstm2"
   ]
  },
  {
   "cell_type": "markdown",
   "metadata": {},
   "source": [
    "과정 요약:<br> \n",
    "feature: season, day of week, week number, sales <br> \n",
    "feature engineering: 이상점 제거+ normalize+ denormalize"
   ]
  },
  {
   "cell_type": "markdown",
   "metadata": {},
   "source": [
    "결과요약: RMSE: 0.24234837293624878 "
   ]
  },
  {
   "cell_type": "markdown",
   "metadata": {},
   "source": [
    "상세과정:\n",
    "주중(1)/주말(2) + 겨울(1)봄(2)여름(3)가을(4) // \n",
    "이미 lstm이라는 것이 sequence 개념이 있으므로 시간축(1~397)를 feature로 설정하는 것은 의미가 없을 듯 하여 LSTM 시도2에서는 제외함"
   ]
  },
  {
   "cell_type": "markdown",
   "metadata": {},
   "source": [
    "추가의견) 개인적으로 이상점을 제거한 후 normalize를 하면 rmse가 커질 수 밖에 없다고 생각함. 다음시도(lstm3)은 이상점을 제거하지 않고 normalize를 하고, lstm4에서는 이상점을 제거하고 normalize를 하지 않는 것을 시도하겠다."
   ]
  },
  {
   "cell_type": "markdown",
   "metadata": {},
   "source": [
    "추가의견2) 처음에는 denormalize과정 없이 rmse를 구했는데, 이것보다는 denormalize를 한 후 rmse를 구하여 모델간 비교를 하는 것이 더 적절한 것 같다. normalize는 어디까지나 변환이니 항상 변환을 할때는 역변환을 하여 원본 데이터 형태m로 생각하는 것이 덜 헷갈리고, 결과값에 대한 더욱 직관적인 이해가 가능할 것 같다. 그리고, 여러 형태의 data transformation이 있는데 normalize 가장 마지막 단계의 data transformation인 것 같다. 다른 로그나 루트 변환을 한 후 normalization을 하고, 그리고 예측값이 모델을 통해 생성되면 바로 denormalize하고...예측(뉴럴) 모델의 input직전과 output직후."
   ]
  },
  {
   "cell_type": "code",
   "execution_count": 1,
   "metadata": {
    "collapsed": true
   },
   "outputs": [],
   "source": [
    "import tensorflow as tf\n",
    "import numpy as np\n",
    "import matplotlib\n",
    "import os\n",
    "import matplotlib.pyplot as plt\n",
    "import pandas as pd\n",
    "from datetime import datetime   "
   ]
  },
  {
   "cell_type": "markdown",
   "metadata": {},
   "source": [
    "set seednumber(7 or 77)"
   ]
  },
  {
   "cell_type": "code",
   "execution_count": 2,
   "metadata": {
    "collapsed": true
   },
   "outputs": [],
   "source": [
    "tf.set_random_seed(77)"
   ]
  },
  {
   "cell_type": "markdown",
   "metadata": {},
   "source": [
    "# 1. DATA 준비"
   ]
  },
  {
   "cell_type": "code",
   "execution_count": 3,
   "metadata": {
    "scrolled": true
   },
   "outputs": [
    {
     "name": "stdout",
     "output_type": "stream",
     "text": [
      "<class 'pandas.core.frame.DataFrame'>\n",
      "RangeIndex: 397 entries, 0 to 396\n",
      "Data columns (total 2 columns):\n",
      "date     397 non-null object\n",
      "sales    397 non-null int64\n",
      "dtypes: int64(1), object(1)\n",
      "memory usage: 6.3+ KB\n"
     ]
    },
    {
     "data": {
      "text/html": [
       "<div>\n",
       "<style>\n",
       "    .dataframe thead tr:only-child th {\n",
       "        text-align: right;\n",
       "    }\n",
       "\n",
       "    .dataframe thead th {\n",
       "        text-align: left;\n",
       "    }\n",
       "\n",
       "    .dataframe tbody tr th {\n",
       "        vertical-align: top;\n",
       "    }\n",
       "</style>\n",
       "<table border=\"1\" class=\"dataframe\">\n",
       "  <thead>\n",
       "    <tr style=\"text-align: right;\">\n",
       "      <th></th>\n",
       "      <th>date</th>\n",
       "      <th>sales</th>\n",
       "    </tr>\n",
       "  </thead>\n",
       "  <tbody>\n",
       "    <tr>\n",
       "      <th>0</th>\n",
       "      <td>2016-01-01</td>\n",
       "      <td>34</td>\n",
       "    </tr>\n",
       "    <tr>\n",
       "      <th>1</th>\n",
       "      <td>2016-01-02</td>\n",
       "      <td>41</td>\n",
       "    </tr>\n",
       "    <tr>\n",
       "      <th>2</th>\n",
       "      <td>2016-01-03</td>\n",
       "      <td>54</td>\n",
       "    </tr>\n",
       "    <tr>\n",
       "      <th>3</th>\n",
       "      <td>2016-01-04</td>\n",
       "      <td>41</td>\n",
       "    </tr>\n",
       "    <tr>\n",
       "      <th>4</th>\n",
       "      <td>2016-01-05</td>\n",
       "      <td>35</td>\n",
       "    </tr>\n",
       "  </tbody>\n",
       "</table>\n",
       "</div>"
      ],
      "text/plain": [
       "         date  sales\n",
       "0  2016-01-01     34\n",
       "1  2016-01-02     41\n",
       "2  2016-01-03     54\n",
       "3  2016-01-04     41\n",
       "4  2016-01-05     35"
      ]
     },
     "execution_count": 3,
     "metadata": {},
     "output_type": "execute_result"
    }
   ],
   "source": [
    "columns=['date','sales']\n",
    "\n",
    "txs=pd.read_table('./lstmData/lstmPrac2.csv', sep=',',header=None,names=columns )\n",
    "txs.info()\n",
    "txs.head()"
   ]
  },
  {
   "cell_type": "markdown",
   "metadata": {},
   "source": [
    "## 1.1 기본 feature"
   ]
  },
  {
   "cell_type": "markdown",
   "metadata": {},
   "source": [
    "'ds-y'의 ds로부터 api로 얻을 수 있는 값"
   ]
  },
  {
   "cell_type": "markdown",
   "metadata": {},
   "source": [
    "year, day of week, month, week number를 기본 feature로 설정"
   ]
  },
  {
   "cell_type": "code",
   "execution_count": 4,
   "metadata": {
    "collapsed": true
   },
   "outputs": [],
   "source": [
    "year = lambda x: datetime.strptime(x, \"%Y-%m-%d\" ).year  \n",
    "day_of_week = lambda x: datetime.strptime(x, \"%Y-%m-%d\" ).weekday()\n",
    "month = lambda x: datetime.strptime(x, \"%Y-%m-%d\" ).month\n",
    "# please read docs on how week numbers are calculate\n",
    "week_number = lambda x: datetime.strptime(x, \"%Y-%m-%d\" ).strftime('%V')"
   ]
  },
  {
   "cell_type": "code",
   "execution_count": 5,
   "metadata": {
    "collapsed": true
   },
   "outputs": [],
   "source": [
    "txs['year'] = txs['date'].map(year)\n",
    "txs['month']=txs['date'].map(month)\n",
    "txs['week_number']=txs['date'].map(week_number)\n",
    "txs['day_of_week']=txs['date'].map(day_of_week)"
   ]
  },
  {
   "cell_type": "markdown",
   "metadata": {},
   "source": [
    "## 1.2 추가 feature"
   ]
  },
  {
   "cell_type": "markdown",
   "metadata": {},
   "source": [
    "'ds-y'의 ds로부터 api로 얻을 수 없는 값: 본 feature를 가공한 feature + ds와 무관한 feature"
   ]
  },
  {
   "cell_type": "code",
   "execution_count": 6,
   "metadata": {
    "collapsed": true
   },
   "outputs": [],
   "source": [
    "seasons = [0,0,1,1,1,2,2,2,3,3,3,0] #dec - feb is winter, then spring, summer, fall etc\n",
    "season = lambda x: seasons[(datetime.strptime(x, \"%Y-%m-%d\" ).month-1)]"
   ]
  },
  {
   "cell_type": "code",
   "execution_count": 7,
   "metadata": {
    "scrolled": true
   },
   "outputs": [
    {
     "data": {
      "text/html": [
       "<div>\n",
       "<style>\n",
       "    .dataframe thead tr:only-child th {\n",
       "        text-align: right;\n",
       "    }\n",
       "\n",
       "    .dataframe thead th {\n",
       "        text-align: left;\n",
       "    }\n",
       "\n",
       "    .dataframe tbody tr th {\n",
       "        vertical-align: top;\n",
       "    }\n",
       "</style>\n",
       "<table border=\"1\" class=\"dataframe\">\n",
       "  <thead>\n",
       "    <tr style=\"text-align: right;\">\n",
       "      <th></th>\n",
       "      <th>date</th>\n",
       "      <th>sales</th>\n",
       "      <th>year</th>\n",
       "      <th>month</th>\n",
       "      <th>week_number</th>\n",
       "      <th>day_of_week</th>\n",
       "      <th>season</th>\n",
       "    </tr>\n",
       "  </thead>\n",
       "  <tbody>\n",
       "    <tr>\n",
       "      <th>0</th>\n",
       "      <td>2016-01-01</td>\n",
       "      <td>34</td>\n",
       "      <td>2016</td>\n",
       "      <td>1</td>\n",
       "      <td>53</td>\n",
       "      <td>4</td>\n",
       "      <td>0</td>\n",
       "    </tr>\n",
       "    <tr>\n",
       "      <th>1</th>\n",
       "      <td>2016-01-02</td>\n",
       "      <td>41</td>\n",
       "      <td>2016</td>\n",
       "      <td>1</td>\n",
       "      <td>53</td>\n",
       "      <td>5</td>\n",
       "      <td>0</td>\n",
       "    </tr>\n",
       "    <tr>\n",
       "      <th>2</th>\n",
       "      <td>2016-01-03</td>\n",
       "      <td>54</td>\n",
       "      <td>2016</td>\n",
       "      <td>1</td>\n",
       "      <td>53</td>\n",
       "      <td>6</td>\n",
       "      <td>0</td>\n",
       "    </tr>\n",
       "    <tr>\n",
       "      <th>3</th>\n",
       "      <td>2016-01-04</td>\n",
       "      <td>41</td>\n",
       "      <td>2016</td>\n",
       "      <td>1</td>\n",
       "      <td>01</td>\n",
       "      <td>0</td>\n",
       "      <td>0</td>\n",
       "    </tr>\n",
       "    <tr>\n",
       "      <th>4</th>\n",
       "      <td>2016-01-05</td>\n",
       "      <td>35</td>\n",
       "      <td>2016</td>\n",
       "      <td>1</td>\n",
       "      <td>01</td>\n",
       "      <td>1</td>\n",
       "      <td>0</td>\n",
       "    </tr>\n",
       "    <tr>\n",
       "      <th>5</th>\n",
       "      <td>2016-01-06</td>\n",
       "      <td>44</td>\n",
       "      <td>2016</td>\n",
       "      <td>1</td>\n",
       "      <td>01</td>\n",
       "      <td>2</td>\n",
       "      <td>0</td>\n",
       "    </tr>\n",
       "    <tr>\n",
       "      <th>6</th>\n",
       "      <td>2016-01-07</td>\n",
       "      <td>50</td>\n",
       "      <td>2016</td>\n",
       "      <td>1</td>\n",
       "      <td>01</td>\n",
       "      <td>3</td>\n",
       "      <td>0</td>\n",
       "    </tr>\n",
       "    <tr>\n",
       "      <th>7</th>\n",
       "      <td>2016-01-08</td>\n",
       "      <td>42</td>\n",
       "      <td>2016</td>\n",
       "      <td>1</td>\n",
       "      <td>01</td>\n",
       "      <td>4</td>\n",
       "      <td>0</td>\n",
       "    </tr>\n",
       "    <tr>\n",
       "      <th>8</th>\n",
       "      <td>2016-01-09</td>\n",
       "      <td>42</td>\n",
       "      <td>2016</td>\n",
       "      <td>1</td>\n",
       "      <td>01</td>\n",
       "      <td>5</td>\n",
       "      <td>0</td>\n",
       "    </tr>\n",
       "    <tr>\n",
       "      <th>9</th>\n",
       "      <td>2016-01-10</td>\n",
       "      <td>66</td>\n",
       "      <td>2016</td>\n",
       "      <td>1</td>\n",
       "      <td>01</td>\n",
       "      <td>6</td>\n",
       "      <td>0</td>\n",
       "    </tr>\n",
       "    <tr>\n",
       "      <th>10</th>\n",
       "      <td>2016-01-11</td>\n",
       "      <td>50</td>\n",
       "      <td>2016</td>\n",
       "      <td>1</td>\n",
       "      <td>02</td>\n",
       "      <td>0</td>\n",
       "      <td>0</td>\n",
       "    </tr>\n",
       "    <tr>\n",
       "      <th>11</th>\n",
       "      <td>2016-01-12</td>\n",
       "      <td>55</td>\n",
       "      <td>2016</td>\n",
       "      <td>1</td>\n",
       "      <td>02</td>\n",
       "      <td>1</td>\n",
       "      <td>0</td>\n",
       "    </tr>\n",
       "    <tr>\n",
       "      <th>12</th>\n",
       "      <td>2016-01-13</td>\n",
       "      <td>56</td>\n",
       "      <td>2016</td>\n",
       "      <td>1</td>\n",
       "      <td>02</td>\n",
       "      <td>2</td>\n",
       "      <td>0</td>\n",
       "    </tr>\n",
       "    <tr>\n",
       "      <th>13</th>\n",
       "      <td>2016-01-14</td>\n",
       "      <td>53</td>\n",
       "      <td>2016</td>\n",
       "      <td>1</td>\n",
       "      <td>02</td>\n",
       "      <td>3</td>\n",
       "      <td>0</td>\n",
       "    </tr>\n",
       "    <tr>\n",
       "      <th>14</th>\n",
       "      <td>2016-01-15</td>\n",
       "      <td>44</td>\n",
       "      <td>2016</td>\n",
       "      <td>1</td>\n",
       "      <td>02</td>\n",
       "      <td>4</td>\n",
       "      <td>0</td>\n",
       "    </tr>\n",
       "    <tr>\n",
       "      <th>15</th>\n",
       "      <td>2016-01-16</td>\n",
       "      <td>54</td>\n",
       "      <td>2016</td>\n",
       "      <td>1</td>\n",
       "      <td>02</td>\n",
       "      <td>5</td>\n",
       "      <td>0</td>\n",
       "    </tr>\n",
       "    <tr>\n",
       "      <th>16</th>\n",
       "      <td>2016-01-17</td>\n",
       "      <td>54</td>\n",
       "      <td>2016</td>\n",
       "      <td>1</td>\n",
       "      <td>02</td>\n",
       "      <td>6</td>\n",
       "      <td>0</td>\n",
       "    </tr>\n",
       "    <tr>\n",
       "      <th>17</th>\n",
       "      <td>2016-01-18</td>\n",
       "      <td>50</td>\n",
       "      <td>2016</td>\n",
       "      <td>1</td>\n",
       "      <td>03</td>\n",
       "      <td>0</td>\n",
       "      <td>0</td>\n",
       "    </tr>\n",
       "    <tr>\n",
       "      <th>18</th>\n",
       "      <td>2016-01-19</td>\n",
       "      <td>40</td>\n",
       "      <td>2016</td>\n",
       "      <td>1</td>\n",
       "      <td>03</td>\n",
       "      <td>1</td>\n",
       "      <td>0</td>\n",
       "    </tr>\n",
       "    <tr>\n",
       "      <th>19</th>\n",
       "      <td>2016-01-20</td>\n",
       "      <td>49</td>\n",
       "      <td>2016</td>\n",
       "      <td>1</td>\n",
       "      <td>03</td>\n",
       "      <td>2</td>\n",
       "      <td>0</td>\n",
       "    </tr>\n",
       "    <tr>\n",
       "      <th>20</th>\n",
       "      <td>2016-01-21</td>\n",
       "      <td>28</td>\n",
       "      <td>2016</td>\n",
       "      <td>1</td>\n",
       "      <td>03</td>\n",
       "      <td>3</td>\n",
       "      <td>0</td>\n",
       "    </tr>\n",
       "    <tr>\n",
       "      <th>21</th>\n",
       "      <td>2016-01-22</td>\n",
       "      <td>72</td>\n",
       "      <td>2016</td>\n",
       "      <td>1</td>\n",
       "      <td>03</td>\n",
       "      <td>4</td>\n",
       "      <td>0</td>\n",
       "    </tr>\n",
       "    <tr>\n",
       "      <th>22</th>\n",
       "      <td>2016-01-23</td>\n",
       "      <td>71</td>\n",
       "      <td>2016</td>\n",
       "      <td>1</td>\n",
       "      <td>03</td>\n",
       "      <td>5</td>\n",
       "      <td>0</td>\n",
       "    </tr>\n",
       "    <tr>\n",
       "      <th>23</th>\n",
       "      <td>2016-01-24</td>\n",
       "      <td>53</td>\n",
       "      <td>2016</td>\n",
       "      <td>1</td>\n",
       "      <td>03</td>\n",
       "      <td>6</td>\n",
       "      <td>0</td>\n",
       "    </tr>\n",
       "    <tr>\n",
       "      <th>24</th>\n",
       "      <td>2016-01-25</td>\n",
       "      <td>43</td>\n",
       "      <td>2016</td>\n",
       "      <td>1</td>\n",
       "      <td>04</td>\n",
       "      <td>0</td>\n",
       "      <td>0</td>\n",
       "    </tr>\n",
       "    <tr>\n",
       "      <th>25</th>\n",
       "      <td>2016-01-26</td>\n",
       "      <td>38</td>\n",
       "      <td>2016</td>\n",
       "      <td>1</td>\n",
       "      <td>04</td>\n",
       "      <td>1</td>\n",
       "      <td>0</td>\n",
       "    </tr>\n",
       "    <tr>\n",
       "      <th>26</th>\n",
       "      <td>2016-01-27</td>\n",
       "      <td>55</td>\n",
       "      <td>2016</td>\n",
       "      <td>1</td>\n",
       "      <td>04</td>\n",
       "      <td>2</td>\n",
       "      <td>0</td>\n",
       "    </tr>\n",
       "    <tr>\n",
       "      <th>27</th>\n",
       "      <td>2016-01-28</td>\n",
       "      <td>49</td>\n",
       "      <td>2016</td>\n",
       "      <td>1</td>\n",
       "      <td>04</td>\n",
       "      <td>3</td>\n",
       "      <td>0</td>\n",
       "    </tr>\n",
       "    <tr>\n",
       "      <th>28</th>\n",
       "      <td>2016-01-29</td>\n",
       "      <td>43</td>\n",
       "      <td>2016</td>\n",
       "      <td>1</td>\n",
       "      <td>04</td>\n",
       "      <td>4</td>\n",
       "      <td>0</td>\n",
       "    </tr>\n",
       "    <tr>\n",
       "      <th>29</th>\n",
       "      <td>2016-01-30</td>\n",
       "      <td>49</td>\n",
       "      <td>2016</td>\n",
       "      <td>1</td>\n",
       "      <td>04</td>\n",
       "      <td>5</td>\n",
       "      <td>0</td>\n",
       "    </tr>\n",
       "    <tr>\n",
       "      <th>...</th>\n",
       "      <td>...</td>\n",
       "      <td>...</td>\n",
       "      <td>...</td>\n",
       "      <td>...</td>\n",
       "      <td>...</td>\n",
       "      <td>...</td>\n",
       "      <td>...</td>\n",
       "    </tr>\n",
       "    <tr>\n",
       "      <th>367</th>\n",
       "      <td>2017-01-02</td>\n",
       "      <td>16</td>\n",
       "      <td>2017</td>\n",
       "      <td>1</td>\n",
       "      <td>01</td>\n",
       "      <td>0</td>\n",
       "      <td>0</td>\n",
       "    </tr>\n",
       "    <tr>\n",
       "      <th>368</th>\n",
       "      <td>2017-01-03</td>\n",
       "      <td>20</td>\n",
       "      <td>2017</td>\n",
       "      <td>1</td>\n",
       "      <td>01</td>\n",
       "      <td>1</td>\n",
       "      <td>0</td>\n",
       "    </tr>\n",
       "    <tr>\n",
       "      <th>369</th>\n",
       "      <td>2017-01-04</td>\n",
       "      <td>12</td>\n",
       "      <td>2017</td>\n",
       "      <td>1</td>\n",
       "      <td>01</td>\n",
       "      <td>2</td>\n",
       "      <td>0</td>\n",
       "    </tr>\n",
       "    <tr>\n",
       "      <th>370</th>\n",
       "      <td>2017-01-05</td>\n",
       "      <td>11</td>\n",
       "      <td>2017</td>\n",
       "      <td>1</td>\n",
       "      <td>01</td>\n",
       "      <td>3</td>\n",
       "      <td>0</td>\n",
       "    </tr>\n",
       "    <tr>\n",
       "      <th>371</th>\n",
       "      <td>2017-01-06</td>\n",
       "      <td>22</td>\n",
       "      <td>2017</td>\n",
       "      <td>1</td>\n",
       "      <td>01</td>\n",
       "      <td>4</td>\n",
       "      <td>0</td>\n",
       "    </tr>\n",
       "    <tr>\n",
       "      <th>372</th>\n",
       "      <td>2017-01-07</td>\n",
       "      <td>20</td>\n",
       "      <td>2017</td>\n",
       "      <td>1</td>\n",
       "      <td>01</td>\n",
       "      <td>5</td>\n",
       "      <td>0</td>\n",
       "    </tr>\n",
       "    <tr>\n",
       "      <th>373</th>\n",
       "      <td>2017-01-08</td>\n",
       "      <td>16</td>\n",
       "      <td>2017</td>\n",
       "      <td>1</td>\n",
       "      <td>01</td>\n",
       "      <td>6</td>\n",
       "      <td>0</td>\n",
       "    </tr>\n",
       "    <tr>\n",
       "      <th>374</th>\n",
       "      <td>2017-01-09</td>\n",
       "      <td>17</td>\n",
       "      <td>2017</td>\n",
       "      <td>1</td>\n",
       "      <td>02</td>\n",
       "      <td>0</td>\n",
       "      <td>0</td>\n",
       "    </tr>\n",
       "    <tr>\n",
       "      <th>375</th>\n",
       "      <td>2017-01-10</td>\n",
       "      <td>97</td>\n",
       "      <td>2017</td>\n",
       "      <td>1</td>\n",
       "      <td>02</td>\n",
       "      <td>1</td>\n",
       "      <td>0</td>\n",
       "    </tr>\n",
       "    <tr>\n",
       "      <th>376</th>\n",
       "      <td>2017-01-11</td>\n",
       "      <td>0</td>\n",
       "      <td>2017</td>\n",
       "      <td>1</td>\n",
       "      <td>02</td>\n",
       "      <td>2</td>\n",
       "      <td>0</td>\n",
       "    </tr>\n",
       "    <tr>\n",
       "      <th>377</th>\n",
       "      <td>2017-01-12</td>\n",
       "      <td>23</td>\n",
       "      <td>2017</td>\n",
       "      <td>1</td>\n",
       "      <td>02</td>\n",
       "      <td>3</td>\n",
       "      <td>0</td>\n",
       "    </tr>\n",
       "    <tr>\n",
       "      <th>378</th>\n",
       "      <td>2017-01-13</td>\n",
       "      <td>100</td>\n",
       "      <td>2017</td>\n",
       "      <td>1</td>\n",
       "      <td>02</td>\n",
       "      <td>4</td>\n",
       "      <td>0</td>\n",
       "    </tr>\n",
       "    <tr>\n",
       "      <th>379</th>\n",
       "      <td>2017-01-14</td>\n",
       "      <td>18</td>\n",
       "      <td>2017</td>\n",
       "      <td>1</td>\n",
       "      <td>02</td>\n",
       "      <td>5</td>\n",
       "      <td>0</td>\n",
       "    </tr>\n",
       "    <tr>\n",
       "      <th>380</th>\n",
       "      <td>2017-01-15</td>\n",
       "      <td>13</td>\n",
       "      <td>2017</td>\n",
       "      <td>1</td>\n",
       "      <td>02</td>\n",
       "      <td>6</td>\n",
       "      <td>0</td>\n",
       "    </tr>\n",
       "    <tr>\n",
       "      <th>381</th>\n",
       "      <td>2017-01-16</td>\n",
       "      <td>21</td>\n",
       "      <td>2017</td>\n",
       "      <td>1</td>\n",
       "      <td>03</td>\n",
       "      <td>0</td>\n",
       "      <td>0</td>\n",
       "    </tr>\n",
       "    <tr>\n",
       "      <th>382</th>\n",
       "      <td>2017-01-17</td>\n",
       "      <td>24</td>\n",
       "      <td>2017</td>\n",
       "      <td>1</td>\n",
       "      <td>03</td>\n",
       "      <td>1</td>\n",
       "      <td>0</td>\n",
       "    </tr>\n",
       "    <tr>\n",
       "      <th>383</th>\n",
       "      <td>2017-01-18</td>\n",
       "      <td>16</td>\n",
       "      <td>2017</td>\n",
       "      <td>1</td>\n",
       "      <td>03</td>\n",
       "      <td>2</td>\n",
       "      <td>0</td>\n",
       "    </tr>\n",
       "    <tr>\n",
       "      <th>384</th>\n",
       "      <td>2017-01-19</td>\n",
       "      <td>18</td>\n",
       "      <td>2017</td>\n",
       "      <td>1</td>\n",
       "      <td>03</td>\n",
       "      <td>3</td>\n",
       "      <td>0</td>\n",
       "    </tr>\n",
       "    <tr>\n",
       "      <th>385</th>\n",
       "      <td>2017-01-20</td>\n",
       "      <td>22</td>\n",
       "      <td>2017</td>\n",
       "      <td>1</td>\n",
       "      <td>03</td>\n",
       "      <td>4</td>\n",
       "      <td>0</td>\n",
       "    </tr>\n",
       "    <tr>\n",
       "      <th>386</th>\n",
       "      <td>2017-01-21</td>\n",
       "      <td>18</td>\n",
       "      <td>2017</td>\n",
       "      <td>1</td>\n",
       "      <td>03</td>\n",
       "      <td>5</td>\n",
       "      <td>0</td>\n",
       "    </tr>\n",
       "    <tr>\n",
       "      <th>387</th>\n",
       "      <td>2017-01-22</td>\n",
       "      <td>11</td>\n",
       "      <td>2017</td>\n",
       "      <td>1</td>\n",
       "      <td>03</td>\n",
       "      <td>6</td>\n",
       "      <td>0</td>\n",
       "    </tr>\n",
       "    <tr>\n",
       "      <th>388</th>\n",
       "      <td>2017-01-23</td>\n",
       "      <td>24</td>\n",
       "      <td>2017</td>\n",
       "      <td>1</td>\n",
       "      <td>04</td>\n",
       "      <td>0</td>\n",
       "      <td>0</td>\n",
       "    </tr>\n",
       "    <tr>\n",
       "      <th>389</th>\n",
       "      <td>2017-01-24</td>\n",
       "      <td>22</td>\n",
       "      <td>2017</td>\n",
       "      <td>1</td>\n",
       "      <td>04</td>\n",
       "      <td>1</td>\n",
       "      <td>0</td>\n",
       "    </tr>\n",
       "    <tr>\n",
       "      <th>390</th>\n",
       "      <td>2017-01-25</td>\n",
       "      <td>20</td>\n",
       "      <td>2017</td>\n",
       "      <td>1</td>\n",
       "      <td>04</td>\n",
       "      <td>2</td>\n",
       "      <td>0</td>\n",
       "    </tr>\n",
       "    <tr>\n",
       "      <th>391</th>\n",
       "      <td>2017-01-26</td>\n",
       "      <td>22</td>\n",
       "      <td>2017</td>\n",
       "      <td>1</td>\n",
       "      <td>04</td>\n",
       "      <td>3</td>\n",
       "      <td>0</td>\n",
       "    </tr>\n",
       "    <tr>\n",
       "      <th>392</th>\n",
       "      <td>2017-01-27</td>\n",
       "      <td>26</td>\n",
       "      <td>2017</td>\n",
       "      <td>1</td>\n",
       "      <td>04</td>\n",
       "      <td>4</td>\n",
       "      <td>0</td>\n",
       "    </tr>\n",
       "    <tr>\n",
       "      <th>393</th>\n",
       "      <td>2017-01-28</td>\n",
       "      <td>0</td>\n",
       "      <td>2017</td>\n",
       "      <td>1</td>\n",
       "      <td>04</td>\n",
       "      <td>5</td>\n",
       "      <td>0</td>\n",
       "    </tr>\n",
       "    <tr>\n",
       "      <th>394</th>\n",
       "      <td>2017-01-29</td>\n",
       "      <td>0</td>\n",
       "      <td>2017</td>\n",
       "      <td>1</td>\n",
       "      <td>04</td>\n",
       "      <td>6</td>\n",
       "      <td>0</td>\n",
       "    </tr>\n",
       "    <tr>\n",
       "      <th>395</th>\n",
       "      <td>2017-01-30</td>\n",
       "      <td>5</td>\n",
       "      <td>2017</td>\n",
       "      <td>1</td>\n",
       "      <td>05</td>\n",
       "      <td>0</td>\n",
       "      <td>0</td>\n",
       "    </tr>\n",
       "    <tr>\n",
       "      <th>396</th>\n",
       "      <td>2017-01-31</td>\n",
       "      <td>31</td>\n",
       "      <td>2017</td>\n",
       "      <td>1</td>\n",
       "      <td>05</td>\n",
       "      <td>1</td>\n",
       "      <td>0</td>\n",
       "    </tr>\n",
       "  </tbody>\n",
       "</table>\n",
       "<p>397 rows × 7 columns</p>\n",
       "</div>"
      ],
      "text/plain": [
       "           date  sales  year  month week_number  day_of_week  season\n",
       "0    2016-01-01     34  2016      1          53            4       0\n",
       "1    2016-01-02     41  2016      1          53            5       0\n",
       "2    2016-01-03     54  2016      1          53            6       0\n",
       "3    2016-01-04     41  2016      1          01            0       0\n",
       "4    2016-01-05     35  2016      1          01            1       0\n",
       "5    2016-01-06     44  2016      1          01            2       0\n",
       "6    2016-01-07     50  2016      1          01            3       0\n",
       "7    2016-01-08     42  2016      1          01            4       0\n",
       "8    2016-01-09     42  2016      1          01            5       0\n",
       "9    2016-01-10     66  2016      1          01            6       0\n",
       "10   2016-01-11     50  2016      1          02            0       0\n",
       "11   2016-01-12     55  2016      1          02            1       0\n",
       "12   2016-01-13     56  2016      1          02            2       0\n",
       "13   2016-01-14     53  2016      1          02            3       0\n",
       "14   2016-01-15     44  2016      1          02            4       0\n",
       "15   2016-01-16     54  2016      1          02            5       0\n",
       "16   2016-01-17     54  2016      1          02            6       0\n",
       "17   2016-01-18     50  2016      1          03            0       0\n",
       "18   2016-01-19     40  2016      1          03            1       0\n",
       "19   2016-01-20     49  2016      1          03            2       0\n",
       "20   2016-01-21     28  2016      1          03            3       0\n",
       "21   2016-01-22     72  2016      1          03            4       0\n",
       "22   2016-01-23     71  2016      1          03            5       0\n",
       "23   2016-01-24     53  2016      1          03            6       0\n",
       "24   2016-01-25     43  2016      1          04            0       0\n",
       "25   2016-01-26     38  2016      1          04            1       0\n",
       "26   2016-01-27     55  2016      1          04            2       0\n",
       "27   2016-01-28     49  2016      1          04            3       0\n",
       "28   2016-01-29     43  2016      1          04            4       0\n",
       "29   2016-01-30     49  2016      1          04            5       0\n",
       "..          ...    ...   ...    ...         ...          ...     ...\n",
       "367  2017-01-02     16  2017      1          01            0       0\n",
       "368  2017-01-03     20  2017      1          01            1       0\n",
       "369  2017-01-04     12  2017      1          01            2       0\n",
       "370  2017-01-05     11  2017      1          01            3       0\n",
       "371  2017-01-06     22  2017      1          01            4       0\n",
       "372  2017-01-07     20  2017      1          01            5       0\n",
       "373  2017-01-08     16  2017      1          01            6       0\n",
       "374  2017-01-09     17  2017      1          02            0       0\n",
       "375  2017-01-10     97  2017      1          02            1       0\n",
       "376  2017-01-11      0  2017      1          02            2       0\n",
       "377  2017-01-12     23  2017      1          02            3       0\n",
       "378  2017-01-13    100  2017      1          02            4       0\n",
       "379  2017-01-14     18  2017      1          02            5       0\n",
       "380  2017-01-15     13  2017      1          02            6       0\n",
       "381  2017-01-16     21  2017      1          03            0       0\n",
       "382  2017-01-17     24  2017      1          03            1       0\n",
       "383  2017-01-18     16  2017      1          03            2       0\n",
       "384  2017-01-19     18  2017      1          03            3       0\n",
       "385  2017-01-20     22  2017      1          03            4       0\n",
       "386  2017-01-21     18  2017      1          03            5       0\n",
       "387  2017-01-22     11  2017      1          03            6       0\n",
       "388  2017-01-23     24  2017      1          04            0       0\n",
       "389  2017-01-24     22  2017      1          04            1       0\n",
       "390  2017-01-25     20  2017      1          04            2       0\n",
       "391  2017-01-26     22  2017      1          04            3       0\n",
       "392  2017-01-27     26  2017      1          04            4       0\n",
       "393  2017-01-28      0  2017      1          04            5       0\n",
       "394  2017-01-29      0  2017      1          04            6       0\n",
       "395  2017-01-30      5  2017      1          05            0       0\n",
       "396  2017-01-31     31  2017      1          05            1       0\n",
       "\n",
       "[397 rows x 7 columns]"
      ]
     },
     "execution_count": 7,
     "metadata": {},
     "output_type": "execute_result"
    }
   ],
   "source": [
    "txs['season']=txs['date'].map(season)\n",
    "txs"
   ]
  },
  {
   "cell_type": "markdown",
   "metadata": {},
   "source": [
    "pandas를 통해 구한 각 feature는 list()로 우리의 기준type인 list로 변경이 가능"
   ]
  },
  {
   "cell_type": "markdown",
   "metadata": {},
   "source": [
    "## 1.3 추가 가공"
   ]
  },
  {
   "cell_type": "markdown",
   "metadata": {},
   "source": [
    "### 1.3.1 y의 추가 가공"
   ]
  },
  {
   "cell_type": "markdown",
   "metadata": {},
   "source": [
    "이상점 제거, normalization, bucketization 을 하여 새로운 열을 생성하는 방향으로"
   ]
  },
  {
   "cell_type": "code",
   "execution_count": 24,
   "metadata": {
    "collapsed": true
   },
   "outputs": [],
   "source": [
    "sales=list(txs['sales'])"
   ]
  },
  {
   "cell_type": "markdown",
   "metadata": {},
   "source": [
    "#### 이상점 제거"
   ]
  },
  {
   "cell_type": "markdown",
   "metadata": {},
   "source": [
    "이상점 제거를 위해 평균과 표준편차를 구한다. 이상점의 기준은 일단 평균+-2*sd로 설정"
   ]
  },
  {
   "cell_type": "code",
   "execution_count": 33,
   "metadata": {
    "collapsed": true,
    "scrolled": true
   },
   "outputs": [],
   "source": [
    "mean=np.mean(sales)\n",
    "std=np.std(sales)"
   ]
  },
  {
   "cell_type": "code",
   "execution_count": 34,
   "metadata": {
    "collapsed": true
   },
   "outputs": [],
   "source": [
    "for i in range(len(sales)):\n",
    "    if (sales[i]<mean-2*std or sales[i]>mean+2*std):\n",
    "         sales[i]=int(mean)\n",
    "        "
   ]
  },
  {
   "cell_type": "code",
   "execution_count": 35,
   "metadata": {
    "scrolled": true
   },
   "outputs": [
    {
     "data": {
      "text/plain": [
       "array([ 0.34,  0.41,  0.54,  0.41,  0.35,  0.44,  0.5 ,  0.42,  0.42,\n",
       "        0.66,  0.5 ,  0.55,  0.56,  0.53,  0.44,  0.54,  0.54,  0.5 ,\n",
       "        0.4 ,  0.49,  0.28,  0.  ,  0.  ,  0.53,  0.43,  0.38,  0.55,\n",
       "        0.49,  0.43,  0.49,  0.49,  0.44,  0.39,  0.52,  0.45,  0.33,\n",
       "        0.43,  0.4 ,  0.46,  0.49,  0.5 ,  0.37,  0.37,  0.45,  0.48,\n",
       "        0.48,  0.38,  0.6 ,  0.31,  0.35,  0.53,  0.  ,  0.62,  0.48,\n",
       "        0.51,  0.49,  0.38,  0.32,  0.39,  0.35,  0.3 ,  0.36,  0.31,\n",
       "        0.31,  0.44,  0.41,  0.41,  0.45,  0.46,  0.45,  0.41,  0.47,\n",
       "        0.48,  0.4 ,  0.42,  0.38,  0.38,  0.45,  0.48,  0.62,  0.46,\n",
       "        0.38,  0.62,  0.  ,  0.4 ,  0.45,  0.42,  0.53,  0.53,  0.56,\n",
       "        0.53,  0.47,  0.61,  0.64,  0.62,  0.37,  0.65,  0.54,  0.44,\n",
       "        0.46,  0.5 ,  0.43,  0.53,  0.63,  0.52,  0.02,  0.  ,  0.  ,\n",
       "        0.  ,  0.59,  0.  ,  0.47,  0.44,  0.  ,  0.  ,  0.  ,  0.47,\n",
       "        0.61,  0.  ,  0.35,  0.5 ,  0.58,  0.33,  0.41,  0.36,  0.64,\n",
       "        0.49,  0.53,  0.6 ,  0.43,  0.41,  0.55,  0.45,  0.18,  0.6 ,\n",
       "        0.69,  0.54,  0.39,  0.5 ,  0.44,  0.54,  0.57,  0.  ,  0.57,\n",
       "        0.44,  0.56,  0.51,  0.55,  0.28,  0.56,  0.54,  0.36,  0.12,\n",
       "        0.25,  0.41,  0.11,  0.06,  0.09,  0.35,  0.29,  0.24,  0.23,\n",
       "        0.14,  0.21,  0.2 ,  0.25,  0.23,  0.27,  0.31,  0.16,  0.14,\n",
       "        0.3 ,  0.32,  0.  ,  0.35,  0.26,  0.12,  0.21,  0.23,  0.28,\n",
       "        0.25,  0.31,  0.21,  0.17,  0.1 ,  0.29,  0.34,  0.28,  0.2 ,\n",
       "        0.36,  0.23,  0.15,  0.42,  0.28,  0.24,  0.29,  0.2 ,  0.14,\n",
       "        0.18,  0.27,  0.22,  0.31,  0.24,  0.39,  0.31,  0.17,  0.42,\n",
       "        0.29,  0.33,  0.22,  0.39,  0.25,  0.23,  0.25,  0.21,  0.18,\n",
       "        0.24,  0.24,  0.2 ,  0.09,  0.31,  0.33,  0.33,  0.31,  0.27,\n",
       "        0.35,  0.15,  0.25,  0.32,  0.29,  0.32,  0.21,  0.  ,  0.19,\n",
       "        0.37,  0.29,  0.33,  0.16,  0.22,  0.25,  0.21,  0.46,  0.34,\n",
       "        0.31,  0.22,  0.3 ,  0.28,  0.14,  0.25,  0.33,  0.28,  0.24,\n",
       "        0.42,  0.26,  0.19,  0.41,  0.34,  0.08,  0.  ,  0.  ,  0.11,\n",
       "        0.16,  0.27,  0.27,  0.21,  0.37,  0.41,  0.23,  0.3 ,  0.25,\n",
       "        0.22,  0.26,  0.29,  0.31,  0.29,  0.12,  0.15,  0.48,  0.18,\n",
       "        0.25,  0.27,  0.25,  0.21,  0.28,  0.24,  0.21,  0.29,  0.35,\n",
       "        0.  ,  0.07,  0.32,  0.19,  0.34,  0.28,  0.23,  0.15,  0.1 ,\n",
       "        0.15,  0.09,  0.  ,  0.59,  0.29,  0.23,  0.12,  0.36,  0.13,\n",
       "        0.17,  0.17,  0.16,  0.14,  0.08,  0.16,  0.14,  0.14,  0.15,\n",
       "        0.2 ,  0.24,  0.08,  0.15,  0.17,  0.09,  0.17,  0.13,  0.19,\n",
       "        0.08,  0.14,  0.18,  0.24,  0.16,  0.11,  0.13,  0.1 ,  0.16,\n",
       "        0.11,  0.22,  0.15,  0.18,  0.11,  0.14,  0.34,  0.1 ,  0.13,\n",
       "        0.21,  0.35,  0.15,  0.06,  0.23,  0.22,  0.19,  0.2 ,  0.13,\n",
       "        0.21,  0.1 ,  0.11,  0.11,  0.16,  0.12,  0.15,  0.08,  0.  ,\n",
       "        0.24,  0.19,  0.22,  0.13,  0.12,  0.16,  0.02,  0.16,  0.2 ,\n",
       "        0.12,  0.11,  0.22,  0.2 ,  0.16,  0.17,  0.  ,  0.  ,  0.23,\n",
       "        0.  ,  0.18,  0.13,  0.21,  0.24,  0.16,  0.18,  0.22,  0.18,\n",
       "        0.11,  0.24,  0.22,  0.2 ,  0.22,  0.26,  0.  ,  0.  ,  0.05,  0.31])"
      ]
     },
     "execution_count": 35,
     "metadata": {},
     "output_type": "execute_result"
    }
   ],
   "source": [
    "sales"
   ]
  },
  {
   "cell_type": "markdown",
   "metadata": {},
   "source": [
    "#### Normalization"
   ]
  },
  {
   "cell_type": "code",
   "execution_count": 36,
   "metadata": {
    "collapsed": true
   },
   "outputs": [],
   "source": [
    "def minMaxNormalizer(data):\n",
    "    numerator=data-np.min(data)\n",
    "    denominator=np.max(data)-np.min(data)\n",
    "    return numerator/(denominator+1e-7)"
   ]
  },
  {
   "cell_type": "code",
   "execution_count": 37,
   "metadata": {
    "collapsed": true
   },
   "outputs": [],
   "source": [
    "originalSales=sales"
   ]
  },
  {
   "cell_type": "code",
   "execution_count": 38,
   "metadata": {},
   "outputs": [],
   "source": [
    "sales=minMaxNormalizer(sales)"
   ]
  },
  {
   "cell_type": "code",
   "execution_count": 39,
   "metadata": {
    "scrolled": true
   },
   "outputs": [
    {
     "data": {
      "text/plain": [
       "array([ 0.49275355,  0.59420281,  0.78260858,  0.59420281,  0.5072463 ,\n",
       "        0.63768107,  0.72463758,  0.60869556,  0.60869556,  0.9565216 ,\n",
       "        0.72463758,  0.79710133,  0.81159409,  0.76811583,  0.63768107,\n",
       "        0.78260858,  0.78260858,  0.72463758,  0.57971006,  0.71014482,\n",
       "        0.40579704,  0.        ,  0.        ,  0.76811583,  0.62318832,\n",
       "        0.55072456,  0.79710133,  0.71014482,  0.62318832,  0.71014482,\n",
       "        0.71014482,  0.63768107,  0.56521731,  0.75362308,  0.65217382,\n",
       "        0.4782608 ,  0.62318832,  0.57971006,  0.66666657,  0.71014482,\n",
       "        0.72463758,  0.53623181,  0.53623181,  0.65217382,  0.69565207,\n",
       "        0.69565207,  0.55072456,  0.86956509,  0.4492753 ,  0.5072463 ,\n",
       "        0.76811583,  0.        ,  0.89855059,  0.69565207,  0.73913033,\n",
       "        0.71014482,  0.55072456,  0.46376805,  0.56521731,  0.5072463 ,\n",
       "        0.43478255,  0.52173905,  0.4492753 ,  0.4492753 ,  0.63768107,\n",
       "        0.59420281,  0.59420281,  0.65217382,  0.66666657,  0.65217382,\n",
       "        0.59420281,  0.68115932,  0.69565207,  0.57971006,  0.60869556,\n",
       "        0.55072456,  0.55072456,  0.65217382,  0.69565207,  0.89855059,\n",
       "        0.66666657,  0.55072456,  0.89855059,  0.        ,  0.57971006,\n",
       "        0.65217382,  0.60869556,  0.76811583,  0.76811583,  0.81159409,\n",
       "        0.76811583,  0.68115932,  0.88405784,  0.9275361 ,  0.89855059,\n",
       "        0.53623181,  0.94202885,  0.78260858,  0.63768107,  0.66666657,\n",
       "        0.72463758,  0.62318832,  0.76811583,  0.91304335,  0.75362308,\n",
       "        0.0289855 ,  0.        ,  0.        ,  0.        ,  0.85507234,\n",
       "        0.        ,  0.68115932,  0.63768107,  0.        ,  0.        ,\n",
       "        0.        ,  0.68115932,  0.88405784,  0.        ,  0.5072463 ,\n",
       "        0.72463758,  0.84057959,  0.4782608 ,  0.59420281,  0.52173905,\n",
       "        0.9275361 ,  0.71014482,  0.76811583,  0.86956509,  0.62318832,\n",
       "        0.59420281,  0.79710133,  0.65217382,  0.26086953,  0.86956509,\n",
       "        0.99999986,  0.78260858,  0.56521731,  0.72463758,  0.63768107,\n",
       "        0.78260858,  0.82608684,  0.        ,  0.82608684,  0.63768107,\n",
       "        0.81159409,  0.73913033,  0.79710133,  0.40579704,  0.81159409,\n",
       "        0.78260858,  0.52173905,  0.17391302,  0.36231879,  0.59420281,\n",
       "        0.15942027,  0.08695651,  0.13043476,  0.5072463 ,  0.42028979,\n",
       "        0.34782604,  0.33333329,  0.20289852,  0.30434778,  0.28985503,\n",
       "        0.36231879,  0.33333329,  0.39130429,  0.4492753 ,  0.23188402,\n",
       "        0.20289852,  0.43478255,  0.46376805,  0.        ,  0.5072463 ,\n",
       "        0.37681154,  0.17391302,  0.30434778,  0.33333329,  0.40579704,\n",
       "        0.36231879,  0.4492753 ,  0.30434778,  0.24637678,  0.14492752,\n",
       "        0.42028979,  0.49275355,  0.40579704,  0.28985503,  0.52173905,\n",
       "        0.33333329,  0.21739127,  0.60869556,  0.40579704,  0.34782604,\n",
       "        0.42028979,  0.28985503,  0.20289852,  0.26086953,  0.39130429,\n",
       "        0.31884053,  0.4492753 ,  0.34782604,  0.56521731,  0.4492753 ,\n",
       "        0.24637678,  0.60869556,  0.42028979,  0.4782608 ,  0.31884053,\n",
       "        0.56521731,  0.36231879,  0.33333329,  0.36231879,  0.30434778,\n",
       "        0.26086953,  0.34782604,  0.34782604,  0.28985503,  0.13043476,\n",
       "        0.4492753 ,  0.4782608 ,  0.4782608 ,  0.4492753 ,  0.39130429,\n",
       "        0.5072463 ,  0.21739127,  0.36231879,  0.46376805,  0.42028979,\n",
       "        0.46376805,  0.30434778,  0.        ,  0.27536228,  0.53623181,\n",
       "        0.42028979,  0.4782608 ,  0.23188402,  0.31884053,  0.36231879,\n",
       "        0.30434778,  0.66666657,  0.49275355,  0.4492753 ,  0.31884053,\n",
       "        0.43478255,  0.40579704,  0.20289852,  0.36231879,  0.4782608 ,\n",
       "        0.40579704,  0.34782604,  0.60869556,  0.37681154,  0.27536228,\n",
       "        0.59420281,  0.49275355,  0.11594201,  0.        ,  0.        ,\n",
       "        0.15942027,  0.23188402,  0.39130429,  0.39130429,  0.30434778,\n",
       "        0.53623181,  0.59420281,  0.33333329,  0.43478255,  0.36231879,\n",
       "        0.31884053,  0.37681154,  0.42028979,  0.4492753 ,  0.42028979,\n",
       "        0.17391302,  0.21739127,  0.69565207,  0.26086953,  0.36231879,\n",
       "        0.39130429,  0.36231879,  0.30434778,  0.40579704,  0.34782604,\n",
       "        0.30434778,  0.42028979,  0.5072463 ,  0.        ,  0.10144926,\n",
       "        0.46376805,  0.27536228,  0.49275355,  0.40579704,  0.33333329,\n",
       "        0.21739127,  0.14492752,  0.21739127,  0.13043476,  0.        ,\n",
       "        0.85507234,  0.42028979,  0.33333329,  0.17391302,  0.52173905,\n",
       "        0.18840577,  0.24637678,  0.24637678,  0.23188402,  0.20289852,\n",
       "        0.11594201,  0.23188402,  0.20289852,  0.20289852,  0.21739127,\n",
       "        0.28985503,  0.34782604,  0.11594201,  0.21739127,  0.24637678,\n",
       "        0.13043476,  0.24637678,  0.18840577,  0.27536228,  0.11594201,\n",
       "        0.20289852,  0.26086953,  0.34782604,  0.23188402,  0.15942027,\n",
       "        0.18840577,  0.14492752,  0.23188402,  0.15942027,  0.31884053,\n",
       "        0.21739127,  0.26086953,  0.15942027,  0.20289852,  0.49275355,\n",
       "        0.14492752,  0.18840577,  0.30434778,  0.5072463 ,  0.21739127,\n",
       "        0.08695651,  0.33333329,  0.31884053,  0.27536228,  0.28985503,\n",
       "        0.18840577,  0.30434778,  0.14492752,  0.15942027,  0.15942027,\n",
       "        0.23188402,  0.17391302,  0.21739127,  0.11594201,  0.        ,\n",
       "        0.34782604,  0.27536228,  0.31884053,  0.18840577,  0.17391302,\n",
       "        0.23188402,  0.0289855 ,  0.23188402,  0.28985503,  0.17391302,\n",
       "        0.15942027,  0.31884053,  0.28985503,  0.23188402,  0.24637678,\n",
       "        0.        ,  0.        ,  0.33333329,  0.        ,  0.26086953,\n",
       "        0.18840577,  0.30434778,  0.34782604,  0.23188402,  0.26086953,\n",
       "        0.31884053,  0.26086953,  0.15942027,  0.34782604,  0.31884053,\n",
       "        0.28985503,  0.31884053,  0.37681154,  0.        ,  0.        ,\n",
       "        0.07246376,  0.4492753 ])"
      ]
     },
     "execution_count": 39,
     "metadata": {},
     "output_type": "execute_result"
    }
   ],
   "source": [
    "sales"
   ]
  },
  {
   "cell_type": "markdown",
   "metadata": {},
   "source": [
    "#### Denormalization"
   ]
  },
  {
   "cell_type": "markdown",
   "metadata": {},
   "source": [
    "예측모델을 통해 얻은 sales결과를 denormalize시켜 기존 단위로 변환"
   ]
  },
  {
   "cell_type": "code",
   "execution_count": 32,
   "metadata": {
    "collapsed": true
   },
   "outputs": [],
   "source": [
    "def minMaxDeNormalizer(data):\n",
    "    shift=np.min(originalData)\n",
    "    multiplier=np.max(originalData)-np.min(originalData)\n",
    "    return (data+shift)*multiplier "
   ]
  },
  {
   "cell_type": "markdown",
   "metadata": {},
   "source": [
    "이 함수를 마지막 rmse구하기 전에 호출"
   ]
  },
  {
   "cell_type": "markdown",
   "metadata": {},
   "source": [
    "## 1.4 합쳐서 최종 data 생성: XY"
   ]
  },
  {
   "cell_type": "code",
   "execution_count": 40,
   "metadata": {
    "collapsed": true,
    "scrolled": true
   },
   "outputs": [],
   "source": [
    "tempxy=[list(txs['season']),list(txs['day_of_week']),list(txs['week_number']),sales]"
   ]
  },
  {
   "cell_type": "code",
   "execution_count": 41,
   "metadata": {
    "collapsed": true
   },
   "outputs": [],
   "source": [
    "XY=np.array(tempxy).transpose().astype(np.float)"
   ]
  },
  {
   "cell_type": "code",
   "execution_count": 44,
   "metadata": {},
   "outputs": [
    {
     "ename": "NameError",
     "evalue": "name 'XY' is not defined",
     "output_type": "error",
     "traceback": [
      "\u001b[1;31m---------------------------------------------------------------------------\u001b[0m",
      "\u001b[1;31mNameError\u001b[0m                                 Traceback (most recent call last)",
      "\u001b[1;32m<ipython-input-44-d9c4c301291e>\u001b[0m in \u001b[0;36m<module>\u001b[1;34m()\u001b[0m\n\u001b[1;32m----> 1\u001b[1;33m \u001b[0mXY\u001b[0m\u001b[1;33m\u001b[0m\u001b[0m\n\u001b[0m",
      "\u001b[1;31mNameError\u001b[0m: name 'XY' is not defined"
     ]
    }
   ],
   "source": [
    "XY"
   ]
  },
  {
   "cell_type": "markdown",
   "metadata": {},
   "source": [
    "# 2. MODEL 설계"
   ]
  },
  {
   "cell_type": "markdown",
   "metadata": {},
   "source": [
    "## 2.1 사용 model 설정: RNN LSTM"
   ]
  },
  {
   "cell_type": "markdown",
   "metadata": {},
   "source": [
    "## 2.2 해당 model의 train parameters 설정"
   ]
  },
  {
   "cell_type": "code",
   "execution_count": null,
   "metadata": {
    "collapsed": true
   },
   "outputs": [],
   "source": [
    "#seq_length만큼의 전날 y_data가 들어가 output_dim의 다음날 y_data를 예측\n",
    "seq_length=7\n",
    "output_dim=1\n",
    "\n",
    "#data_dim은 y값 도출을 위한 feature 가지수\n",
    "data_dim=4\n",
    "\n",
    "#hidden_dim은 정말 내 마음대로 설정\n",
    "hidden_dim=10\n",
    "\n",
    "learning_rate=0.01\n",
    "iterations=500"
   ]
  },
  {
   "cell_type": "markdown",
   "metadata": {},
   "source": [
    "## 2.3 사용 model, train parameter에 맞추어 dataset(XY) 변환: dataX, dataY"
   ]
  },
  {
   "cell_type": "code",
   "execution_count": null,
   "metadata": {},
   "outputs": [],
   "source": [
    "with tf.Session() as sess:\n",
    "    init = tf.global_variables_initializer()\n",
    "    sess.run(init)\n",
    "\n",
    "    # Training step\n",
    "    for i in range(iterations):\n",
    "        _, step_loss = sess.run([train, loss], feed_dict={\n",
    "                                X: trainX, Y: trainY})\n",
    "        print(\"[step: {}] loss: {}\".format(i, step_loss))\n",
    "\n",
    "    # Test step\n",
    "    test_predict = sess.run(Y_pred, feed_dict={X: testX})\n",
    "    rmse_val = sess.run(rmse, feed_dict={\n",
    "                    targets: testY, predictions: test_predict})\n",
    "    print(\"RMSE: {}\".format(rmse_val))\n",
    "\n",
    "    # Plot predictions\n",
    "    plt.plot(testY)\n",
    "    plt.plot(test_predict)\n",
    "    plt.xlabel(\"Time Period\")\n",
    "    plt.ylabel(\"Stock Price\")\n",
    "    plt.show()"
   ]
  },
  {
   "cell_type": "code",
   "execution_count": null,
   "metadata": {
    "collapsed": true
   },
   "outputs": [],
   "source": []
  },
  {
   "cell_type": "code",
   "execution_count": null,
   "metadata": {
    "collapsed": true
   },
   "outputs": [],
   "source": []
  }
 ],
 "metadata": {
  "kernelspec": {
   "display_name": "Python 3",
   "language": "python",
   "name": "python3"
  },
  "language_info": {
   "codemirror_mode": {
    "name": "ipython",
    "version": 3
   },
   "file_extension": ".py",
   "mimetype": "text/x-python",
   "name": "python",
   "nbconvert_exporter": "python",
   "pygments_lexer": "ipython3",
   "version": "3.5.3"
  }
 },
 "nbformat": 4,
 "nbformat_minor": 2
}
