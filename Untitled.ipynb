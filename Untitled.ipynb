{
 "cells": [
  {
   "cell_type": "code",
<<<<<<< HEAD
   "execution_count": 13,
   "metadata": {
    "collapsed": false,
    "deletable": true,
    "editable": true
   },
   "outputs": [
    {
     "name": "stdout",
     "output_type": "stream",
     "text": [
      "scipy: 0.18.1\n",
      "numpy: 1.11.3\n",
      "matplotlib: 2.0.0\n",
      "pandas: 0.19.2\n"
     ]
    },
    {
     "ename": "ImportError",
     "evalue": "No module named statsmodels",
     "output_type": "error",
     "traceback": [
      "\u001b[0;31m---------------------------------------------------------------------------\u001b[0m",
      "\u001b[0;31mImportError\u001b[0m                               Traceback (most recent call last)",
      "\u001b[0;32m<ipython-input-13-f95855c36101>\u001b[0m in \u001b[0;36m<module>\u001b[0;34m()\u001b[0m\n\u001b[1;32m     12\u001b[0m \u001b[1;32mprint\u001b[0m\u001b[1;33m(\u001b[0m\u001b[1;34m'pandas: %s'\u001b[0m \u001b[1;33m%\u001b[0m \u001b[0mpandas\u001b[0m\u001b[1;33m.\u001b[0m\u001b[0m__version__\u001b[0m\u001b[1;33m)\u001b[0m\u001b[1;33m\u001b[0m\u001b[0m\n\u001b[1;32m     13\u001b[0m \u001b[1;31m# statsmodels\u001b[0m\u001b[1;33m\u001b[0m\u001b[1;33m\u001b[0m\u001b[0m\n\u001b[0;32m---> 14\u001b[0;31m \u001b[1;32mimport\u001b[0m \u001b[0mstatsmodels\u001b[0m\u001b[1;33m\u001b[0m\u001b[0m\n\u001b[0m\u001b[1;32m     15\u001b[0m \u001b[1;32mprint\u001b[0m\u001b[1;33m(\u001b[0m\u001b[1;34m'statsmodels: %s'\u001b[0m \u001b[1;33m%\u001b[0m \u001b[0mstatsmodels\u001b[0m\u001b[1;33m.\u001b[0m\u001b[0m__version__\u001b[0m\u001b[1;33m)\u001b[0m\u001b[1;33m\u001b[0m\u001b[0m\n\u001b[1;32m     16\u001b[0m \u001b[1;31m# scikit-learn\u001b[0m\u001b[1;33m\u001b[0m\u001b[1;33m\u001b[0m\u001b[0m\n",
      "\u001b[0;31mImportError\u001b[0m: No module named statsmodels"
     ]
    }
   ],
   "source": [
    "# scipy\n",
    "import scipy\n",
    "print('scipy: %s' % scipy.__version__)\n",
    "# numpy\n",
    "import numpy\n",
    "print('numpy: %s' % numpy.__version__)\n",
    "# matplotlib\n",
    "import matplotlib\n",
    "print('matplotlib: %s' % matplotlib.__version__)\n",
    "# pandas\n",
    "import pandas\n",
    "print('pandas: %s' % pandas.__version__)\n",
    "# statsmodels\n",
    "import statsmodels\n",
    "print('statsmodels: %s' % statsmodels.__version__)\n",
    "# scikit-learn\n",
    "import sklearn\n",
    "print('sklearn: %s' % sklearn.__version__)"
   ]
  },
  {
   "cell_type": "code",
   "execution_count": 14,
   "metadata": {
    "collapsed": false,
    "deletable": true,
    "editable": true
   },
   "outputs": [
    {
     "ename": "ImportError",
     "evalue": "No module named theano",
     "output_type": "error",
     "traceback": [
      "\u001b[0;31m---------------------------------------------------------------------------\u001b[0m",
      "\u001b[0;31mImportError\u001b[0m                               Traceback (most recent call last)",
      "\u001b[0;32m<ipython-input-14-5ebb41dd7398>\u001b[0m in \u001b[0;36m<module>\u001b[0;34m()\u001b[0m\n\u001b[1;32m      1\u001b[0m \u001b[1;31m# theano\u001b[0m\u001b[1;33m\u001b[0m\u001b[1;33m\u001b[0m\u001b[0m\n\u001b[0;32m----> 2\u001b[0;31m \u001b[1;32mimport\u001b[0m \u001b[0mtheano\u001b[0m\u001b[1;33m\u001b[0m\u001b[0m\n\u001b[0m\u001b[1;32m      3\u001b[0m \u001b[1;32mprint\u001b[0m\u001b[1;33m(\u001b[0m\u001b[1;34m'theano: %s'\u001b[0m \u001b[1;33m%\u001b[0m \u001b[0mtheano\u001b[0m\u001b[1;33m.\u001b[0m\u001b[0m__version__\u001b[0m\u001b[1;33m)\u001b[0m\u001b[1;33m\u001b[0m\u001b[0m\n\u001b[1;32m      4\u001b[0m \u001b[1;31m# tensorflow\u001b[0m\u001b[1;33m\u001b[0m\u001b[1;33m\u001b[0m\u001b[0m\n\u001b[1;32m      5\u001b[0m \u001b[1;32mimport\u001b[0m \u001b[0mtensorflow\u001b[0m\u001b[1;33m\u001b[0m\u001b[0m\n",
      "\u001b[0;31mImportError\u001b[0m: No module named theano"
     ]
    }
   ],
   "source": [
    "# theano\n",
    "import theano\n",
    "print('theano: %s' % theano.__version__)\n",
    "# tensorflow\n",
    "import tensorflow\n",
    "print('tensorflow: %s' % tensorflow.__version__)\n",
    "# keras\n",
    "import keras\n",
    "print('keras: %s' % keras.__version__)"
   ]
  },
  {
   "cell_type": "code",
   "execution_count": 15,
   "metadata": {
    "collapsed": false,
    "deletable": true,
    "editable": true,
    "scrolled": true
   },
   "outputs": [
    {
     "ename": "ImportError",
     "evalue": "No module named keras",
     "output_type": "error",
     "traceback": [
      "\u001b[0;31m---------------------------------------------------------------------------\u001b[0m",
      "\u001b[0;31mImportError\u001b[0m                               Traceback (most recent call last)",
      "\u001b[0;32m<ipython-input-15-6c084f99f9ea>\u001b[0m in \u001b[0;36m<module>\u001b[0;34m()\u001b[0m\n\u001b[0;32m----> 1\u001b[0;31m \u001b[1;32mimport\u001b[0m \u001b[0mkeras\u001b[0m\u001b[1;33m\u001b[0m\u001b[0m\n\u001b[0m\u001b[1;32m      2\u001b[0m \u001b[1;32mprint\u001b[0m\u001b[1;33m(\u001b[0m\u001b[1;34m'keras: %s'\u001b[0m \u001b[1;33m%\u001b[0m \u001b[0mkeras\u001b[0m\u001b[1;33m.\u001b[0m\u001b[0m__version__\u001b[0m\u001b[1;33m)\u001b[0m\u001b[1;33m\u001b[0m\u001b[0m\n",
      "\u001b[0;31mImportError\u001b[0m: No module named keras"
     ]
    }
   ],
   "source": [
    "import keras\n",
    "print('keras: %s' % keras.__version__)"
   ]
  },
  {
   "cell_type": "code",
   "execution_count": null,
   "metadata": {
    "collapsed": true
   },
   "outputs": [],
   "source": []
  },
  {
   "cell_type": "code",
   "execution_count": 16,
   "metadata": {
    "collapsed": false,
    "deletable": true,
    "editable": true
   },
   "outputs": [
    {
     "ename": "ImportError",
     "evalue": "No module named tensorflow",
     "output_type": "error",
     "traceback": [
      "\u001b[0;31m---------------------------------------------------------------------------\u001b[0m",
      "\u001b[0;31mImportError\u001b[0m                               Traceback (most recent call last)",
      "\u001b[0;32m<ipython-input-16-a649b509054f>\u001b[0m in \u001b[0;36m<module>\u001b[0;34m()\u001b[0m\n\u001b[0;32m----> 1\u001b[0;31m \u001b[1;32mimport\u001b[0m \u001b[0mtensorflow\u001b[0m\u001b[1;33m\u001b[0m\u001b[0m\n\u001b[0m",
      "\u001b[0;31mImportError\u001b[0m: No module named tensorflow"
     ]
    }
   ],
   "source": [
    "import tensorflow"
=======
   "execution_count": 2,
   "metadata": {},
   "outputs": [],
   "source": [
    "import numpy\n",
    "import matplotlib.pyplot as plt\n",
    "import pandas\n",
    "import math\n",
    "from keras.models import Sequential\n",
    "from keras.layers import Dense\n",
    "from keras.layers import LSTM\n",
    "from sklearn.preprocessing import MinMaxScaler\n",
    "from sklearn.metrics import mean_squared_error\n",
    "# fix random seed for reproducibility\n",
    "numpy.random.seed(7)\n",
    "\n",
    "# load the dataset\n",
    "dataframe = pandas.read_csv('../data/international-airline-passengers.csv', usecols=[1], engine='python', skipfooter=3)\n",
    "dataset = dataframe.values\n",
    "dataset = dataset.astype('float32')"
>>>>>>> origin/master
   ]
  },
  {
   "cell_type": "code",
<<<<<<< HEAD
   "execution_count": 17,
   "metadata": {
    "collapsed": false,
    "deletable": true,
    "editable": true
   },
   "outputs": [
    {
     "ename": "ImportError",
     "evalue": "No module named tensorflow",
     "output_type": "error",
     "traceback": [
      "\u001b[0;31m---------------------------------------------------------------------------\u001b[0m",
      "\u001b[0;31mImportError\u001b[0m                               Traceback (most recent call last)",
      "\u001b[0;32m<ipython-input-17-a649b509054f>\u001b[0m in \u001b[0;36m<module>\u001b[0;34m()\u001b[0m\n\u001b[0;32m----> 1\u001b[0;31m \u001b[1;32mimport\u001b[0m \u001b[0mtensorflow\u001b[0m\u001b[1;33m\u001b[0m\u001b[0m\n\u001b[0m",
      "\u001b[0;31mImportError\u001b[0m: No module named tensorflow"
     ]
    }
   ],
   "source": [
    "import tensorflow"
   ]
  },
  {
   "cell_type": "code",
   "execution_count": 18,
   "metadata": {
    "collapsed": true
   },
   "outputs": [],
   "source": [
    "import sklearn"
   ]
  },
  {
   "cell_type": "code",
   "execution_count": 19,
   "metadata": {
    "collapsed": false
   },
   "outputs": [
    {
     "ename": "ImportError",
     "evalue": "No module named tensorflow",
     "output_type": "error",
     "traceback": [
      "\u001b[0;31m---------------------------------------------------------------------------\u001b[0m",
      "\u001b[0;31mImportError\u001b[0m                               Traceback (most recent call last)",
      "\u001b[0;32m<ipython-input-19-a649b509054f>\u001b[0m in \u001b[0;36m<module>\u001b[0;34m()\u001b[0m\n\u001b[0;32m----> 1\u001b[0;31m \u001b[1;32mimport\u001b[0m \u001b[0mtensorflow\u001b[0m\u001b[1;33m\u001b[0m\u001b[0m\n\u001b[0m",
      "\u001b[0;31mImportError\u001b[0m: No module named tensorflow"
     ]
    }
   ],
   "source": [
    "import tensorflow"
=======
   "execution_count": 3,
   "metadata": {},
   "outputs": [
    {
     "data": {
      "text/plain": [
       "array([[ 112.],\n",
       "       [ 118.],\n",
       "       [ 132.],\n",
       "       [ 129.],\n",
       "       [ 121.],\n",
       "       [ 135.],\n",
       "       [ 148.],\n",
       "       [ 148.],\n",
       "       [ 136.],\n",
       "       [ 119.],\n",
       "       [ 104.],\n",
       "       [ 118.],\n",
       "       [ 115.],\n",
       "       [ 126.],\n",
       "       [ 141.],\n",
       "       [ 135.],\n",
       "       [ 125.],\n",
       "       [ 149.],\n",
       "       [ 170.],\n",
       "       [ 170.],\n",
       "       [ 158.],\n",
       "       [ 133.],\n",
       "       [ 114.],\n",
       "       [ 140.],\n",
       "       [ 145.],\n",
       "       [ 150.],\n",
       "       [ 178.],\n",
       "       [ 163.],\n",
       "       [ 172.],\n",
       "       [ 178.],\n",
       "       [ 199.],\n",
       "       [ 199.],\n",
       "       [ 184.],\n",
       "       [ 162.],\n",
       "       [ 146.],\n",
       "       [ 166.],\n",
       "       [ 171.],\n",
       "       [ 180.],\n",
       "       [ 193.],\n",
       "       [ 181.],\n",
       "       [ 183.],\n",
       "       [ 218.],\n",
       "       [ 230.],\n",
       "       [ 242.],\n",
       "       [ 209.],\n",
       "       [ 191.],\n",
       "       [ 172.],\n",
       "       [ 194.],\n",
       "       [ 196.],\n",
       "       [ 196.],\n",
       "       [ 236.],\n",
       "       [ 235.],\n",
       "       [ 229.],\n",
       "       [ 243.],\n",
       "       [ 264.],\n",
       "       [ 272.],\n",
       "       [ 237.],\n",
       "       [ 211.],\n",
       "       [ 180.],\n",
       "       [ 201.],\n",
       "       [ 204.],\n",
       "       [ 188.],\n",
       "       [ 235.],\n",
       "       [ 227.],\n",
       "       [ 234.],\n",
       "       [ 264.],\n",
       "       [ 302.],\n",
       "       [ 293.],\n",
       "       [ 259.],\n",
       "       [ 229.],\n",
       "       [ 203.],\n",
       "       [ 229.],\n",
       "       [ 242.],\n",
       "       [ 233.],\n",
       "       [ 267.],\n",
       "       [ 269.],\n",
       "       [ 270.],\n",
       "       [ 315.],\n",
       "       [ 364.],\n",
       "       [ 347.],\n",
       "       [ 312.],\n",
       "       [ 274.],\n",
       "       [ 237.],\n",
       "       [ 278.],\n",
       "       [ 284.],\n",
       "       [ 277.],\n",
       "       [ 317.],\n",
       "       [ 313.],\n",
       "       [ 318.],\n",
       "       [ 374.],\n",
       "       [ 413.],\n",
       "       [ 405.],\n",
       "       [ 355.],\n",
       "       [ 306.],\n",
       "       [ 271.],\n",
       "       [ 306.],\n",
       "       [ 315.],\n",
       "       [ 301.],\n",
       "       [ 356.],\n",
       "       [ 348.],\n",
       "       [ 355.],\n",
       "       [ 422.],\n",
       "       [ 465.],\n",
       "       [ 467.],\n",
       "       [ 404.],\n",
       "       [ 347.],\n",
       "       [ 305.],\n",
       "       [ 336.],\n",
       "       [ 340.],\n",
       "       [ 318.],\n",
       "       [ 362.],\n",
       "       [ 348.],\n",
       "       [ 363.],\n",
       "       [ 435.],\n",
       "       [ 491.],\n",
       "       [ 505.],\n",
       "       [ 404.],\n",
       "       [ 359.],\n",
       "       [ 310.],\n",
       "       [ 337.],\n",
       "       [ 360.],\n",
       "       [ 342.],\n",
       "       [ 406.],\n",
       "       [ 396.],\n",
       "       [ 420.],\n",
       "       [ 472.],\n",
       "       [ 548.],\n",
       "       [ 559.],\n",
       "       [ 463.],\n",
       "       [ 407.],\n",
       "       [ 362.],\n",
       "       [ 405.],\n",
       "       [ 417.],\n",
       "       [ 391.],\n",
       "       [ 419.],\n",
       "       [ 461.],\n",
       "       [ 472.],\n",
       "       [ 535.],\n",
       "       [ 622.],\n",
       "       [ 606.],\n",
       "       [ 508.],\n",
       "       [ 461.],\n",
       "       [ 390.],\n",
       "       [ 432.]], dtype=float32)"
      ]
     },
     "execution_count": 3,
     "metadata": {},
     "output_type": "execute_result"
    }
   ],
   "source": [
    "dataset"
>>>>>>> origin/master
   ]
  },
  {
   "cell_type": "code",
   "execution_count": null,
   "metadata": {
    "collapsed": true
   },
   "outputs": [],
   "source": []
  }
 ],
 "metadata": {
  "kernelspec": {
<<<<<<< HEAD
   "display_name": "Python 2",
   "language": "python",
   "name": "python2"
=======
   "display_name": "Python 3",
   "language": "python",
   "name": "python3"
  },
  "language_info": {
   "codemirror_mode": {
    "name": "ipython",
    "version": 3
   },
   "file_extension": ".py",
   "mimetype": "text/x-python",
   "name": "python",
   "nbconvert_exporter": "python",
   "pygments_lexer": "ipython3",
   "version": "3.5.3"
>>>>>>> origin/master
  }
 },
 "nbformat": 4,
 "nbformat_minor": 2
}
