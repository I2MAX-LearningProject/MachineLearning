{
 "cells": [
  {
   "cell_type": "code",
   "execution_count": null,
   "metadata": {
    "collapsed": true
   },
   "outputs": [],
   "source": [
    "def SeasonalityTrend()"
   ]
  },
  {
   "cell_type": "code",
   "execution_count": null,
   "metadata": {
    "collapsed": true
   },
   "outputs": [],
   "source": [
    "def totalday(int y, int m, int d)\n",
    "{\n",
    "    int months[] = { 31,28,31,30,31,30,31,31,30,31,30,31 };\n",
    "    int i;\n",
    "    float total = 0L;\n",
    "\n",
    "    total = (y - 1) * 365L + (y - 1) / 4 - (y - 1) / 100 + (y - 1) / 400;\n",
    "\n",
    "    if (!(y % 4) && y % 100 || !(y % 400))\n",
    "    months[1]++;\n",
    "    for (i = 0; i<m - 1; i++)\n",
    "        total += months[i];\n",
    "\n",
    "    total += d;\n",
    "    return total;\n",
    "}"
   ]
  },
  {
   "cell_type": "code",
   "execution_count": null,
   "metadata": {
    "collapsed": true
   },
   "outputs": [],
   "source": [
    "def predict(int tWeek//총 주수,int S[]//주별 판매량 배열) {\n",
    "\tdouble intercept, slope;\n",
    "\tdouble r2;\n",
    "\tdouble svar0, svar1;\n",
    "\tint n = min(tWeek, 16);\n",
    "\tint x[16], y[16];\n",
    "\tfor (int i = 1; i <= n; i++) {\n",
    "\t\tx[i] = i;\n",
    "\t}\n",
    "\tif (tWeek < 16) {\n",
    "\t\tfor (int i = 1; i <= n; i++) y[i] = S[i];\n",
    "\t}else {\n",
    "\t\tfor (int i = 1; i <= 16; i++)y[i] = S[tWeek - 16 + i];\n",
    "\t}\n",
    "\t//사용자의 데이터가 16주 이상이면 최근 16주만.\n",
    "\t// first pass\n",
    "\tdouble sumx = 0.0, sumy = 0.0, sumx2 = 0.0;\n",
    "\tfor (int i = 1; i <= n; i++) {\n",
    "\t\tsumx += x[i];\n",
    "\t\tsumx2 += x[i] * x[i];\n",
    "\t\tsumy += y[i];\n",
    "\t}\n",
    "\tdouble xbar = sumx / n;\n",
    "\tdouble ybar = sumy / n;\n",
    "\n",
    "\t// second pass: compute summary statistics\n",
    "\tdouble xxbar = 0.0, yybar = 0.0, xybar = 0.0;\n",
    "\tfor (int i = 1; i <=n; i++) {\n",
    "\t\txxbar += (x[i] - xbar) * (x[i] - xbar);\n",
    "\t\tyybar += (y[i] - ybar) * (y[i] - ybar);\n",
    "\t\txybar += (x[i] - xbar) * (y[i] - ybar);\n",
    "\t}\n",
    "\tslope = xybar / xxbar;\n",
    "\tintercept = ybar - slope * xbar;\n",
    "예측 부분\n",
    "\n",
    "\t// more statistical analysis\n",
    "\tdouble rss = 0.0;      // residual sum of squares\n",
    "\tdouble ssr = 0.0;      // regression sum of squares\n",
    "\tfor (int i = 1; i <= n; i++) {\n",
    "\t\tdouble fit = slope*x[i] + intercept;\n",
    "\t\trss += (fit - y[i]) * (fit - y[i]);\n",
    "\t\tssr += (fit - ybar) * (fit - ybar);\n",
    "\t}"
   ]
  }
 ],
 "metadata": {
  "kernelspec": {
   "display_name": "Python 3",
   "language": "python",
   "name": "python3"
  },
  "language_info": {
   "codemirror_mode": {
    "name": "ipython",
    "version": 3
   },
   "file_extension": ".py",
   "mimetype": "text/x-python",
   "name": "python",
   "nbconvert_exporter": "python",
   "pygments_lexer": "ipython3",
   "version": "3.5.3"
  }
 },
 "nbformat": 4,
 "nbformat_minor": 2
}
